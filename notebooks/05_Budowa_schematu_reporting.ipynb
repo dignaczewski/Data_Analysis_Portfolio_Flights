{
 "cells": [
  {
   "cell_type": "markdown",
   "metadata": {},
   "source": [
    " # Opis notatnika\n",
    " Analiza przygotowana w poprzednim kroku została odebrana pozytywnie. W związku z tym, zostaliśmy poproszeni\n",
    " o przygotowanie raportu na podstawie danych z roku 2020. Ma być on później  wdrożony przez zespół IT na zewnętrzny\n",
    " serwis. Wybór padł na `Dash`.\n",
    "\n",
    " Zadanie wykonamy w dwóch krokach:  \n",
    " 1. Znając wymagania raportu, stworzymy na bazie danych odpowiednie komponenty, które zostaną następnie wykorzystane do wizualizacji.  \n",
    " 1. Stworzymy raport używając `Dash`.\n",
    "\n",
    " Ten notatnik skupia się na odpowiednim przygotowaniu bazy danych pod cele raportowe."
   ]
  },
  {
   "cell_type": "markdown",
   "metadata": {},
   "source": [
    " # Wymagania biznesowe\n",
    " Po prezentacji wyników analizy na niezależnym spotkaniu, zostały określone następujące obszary raportowania odsetka opóźnień lotów:  \n",
    " 1. Wyświetlanie TOP 10 (w sensie najwyższego odsetka opóźnień) lotnisk na podstawie liczby odlotów, wyświetlona ma być również informacja o liczbie przylotów - widok `top_airports_by_departure`.  \n",
    " 1. Wyświetlenie TOP 10 (w sensie najwyższego odsetka opóźnień) tras lotów. Przy czym istotna dla nas jest kolejność, przykładowo trasa (Warszawa, Paryż) jest inna niż (Paryż, Warszawa). Dodatkowym wymaganiem jest, aby minimalna liczba lotów odbytych na trasie wynosiła co najmniej 10000 przelotów - widok `top_reliability_roads`.  \n",
    " 1. Porównanie roku 2019 vs. 2020, aby śledzić wpływ COVID na realizację lotów. Interesują nas podejścia:  \n",
    "     - miesiąc do miesiąca, przykładowo odsetek opoźnień styczeń 2019 vs. odsetek opoźnień styczeń 2020, odsetek opoźnień luty 2019 vs. odsetek opoźnień luty 2020 itd. - widok `year_to_year_comparision`,  \n",
    "     - dzień do dnia, przykładowo odsetek opoźnień wtorek 2019 vs. odsetek opoźnień wtorek 2020 - widok `day_to_day_comparision`.  \n",
    " 1. Dzienny, czyli jak danego dnia, globalnie wyglądał wskaźnik opóźnień lotów samolotu, tj. odsetek opóźnień 01-01-2019, odsetek opóźnień 02-01-2019 itd."
   ]
  },
  {
   "cell_type": "markdown",
   "metadata": {},
   "source": [
    " # Podejście techniczne do problemu\n",
    " Naszym celem będzie odseparowanie warstwy przygotowania danych (logika raportu) od warstwy prezentacyjnej (wizualizacja).\n",
    " Chcemy zapewnić, aby odpowiednie procesy zajmowały się tylko swoimi zadaniami. \n",
    " \n",
    " > W tym podejściu warstwa prezentacyjna (wykres/raport) nie implementuje logiki biznesowej w celu przetwarzania danych. Innymi słowy, nie chcemy aby przykładowo agregacja była wykonywana w momencie tworzenia wizualizacji.\n",
    "\n",
    " To podejście będzie spójne ze współczesnym sposobem projektowania aplikacji. Ma to też dodatkowy benefit - ze względu na wolumen danych na bazie, nie musimy ich najpierw pobierać - warstwa logiczna je odpowiednio zagreguje i przekaże zdecydowanie mniejszą liczbę wierszy, co przyśpieszy działanie całości."
   ]
  },
  {
   "cell_type": "markdown",
   "metadata": {},
   "source": [
    " # Przygotowanie bazy danych\n",
    " Na bazie danych, gdzie umieszczone są już dane, wszystko zawarte jest na schemacie `public`. Ponieważ zgodnie z wymaganiami otrzymujemy nowy obszar wykorzystania danych, stworzymy sobie schemat dedykowany - `reporting`.  \n",
    " Dalej stworzymy widoki, które odpowiedzą na zadane wcześniej pytania.\n",
    "\n",
    " ## Stworzenie dedykowanego schematu\n",
    " W pliku `reporting.sql` tworzymy kwerendę, która stworzy schemat `reporting`."
   ]
  },
  {
   "cell_type": "markdown",
   "metadata": {},
   "source": [
    " # Aktualizacja bazy danych"
   ]
  },
  {
   "cell_type": "markdown",
   "metadata": {},
   "source": [
    "##### Importujemy potrzebne biblioteki, wczytujemy plik z danymi logowania i nawiązujemy połączenie z bazą danych"
   ]
  },
  {
   "cell_type": "code",
   "execution_count": 34,
   "metadata": {},
   "outputs": [],
   "source": [
    "import psycopg2\n",
    "from dotenv import load_dotenv\n",
    "import os"
   ]
  },
  {
   "cell_type": "code",
   "execution_count": 36,
   "metadata": {},
   "outputs": [
    {
     "data": {
      "text/plain": [
       "True"
      ]
     },
     "execution_count": 36,
     "metadata": {},
     "output_type": "execute_result"
    }
   ],
   "source": [
    "# Ładujemy zmienne środowiskowe z pliku .env\n",
    "load_dotenv('DB_pass.env')"
   ]
  },
  {
   "cell_type": "code",
   "execution_count": 38,
   "metadata": {},
   "outputs": [],
   "source": [
    "# Używamy zmiennych środowiskowych do połączenia się z bazą danych\n",
    "connection = psycopg2.connect(\n",
    "    dbname=os.getenv(\"N_DB_NAME\"),\n",
    "    user=os.getenv(\"DB_USER\"),\n",
    "    password=os.getenv(\"DB_PASSWORD\"),\n",
    "    host=os.getenv(\"DB_HOST\"),\n",
    "    port=os.getenv(\"DB_PORT\")\n",
    ")\n",
    "\n",
    "cursor = connection.cursor()"
   ]
  },
  {
   "cell_type": "markdown",
   "metadata": {},
   "source": [
    " ## Wczytanie pliku `reporting.sql`"
   ]
  },
  {
   "cell_type": "code",
   "execution_count": 41,
   "metadata": {},
   "outputs": [],
   "source": [
    "# Wczytujemy strukturę raportu z pliku reporting.sql\n",
    "with open('../sql/reporting.sql', 'r') as file:\n",
    "    reporting_sql = file.read()"
   ]
  },
  {
   "cell_type": "code",
   "execution_count": 43,
   "metadata": {},
   "outputs": [],
   "source": [
    "# Dzielimy zawartość pliku na poszczególne komendy zakończone średnikiem\n",
    "sql_commands = reporting_sql.split(';')\n",
    "\n",
    "# Dodajemy średnik na końcu każdej komendy, czyścimy tekst z niepotrzbnych znaków białych\n",
    "sql_commands = [command.strip() + ';' for command in sql_commands]"
   ]
  },
  {
   "cell_type": "code",
   "execution_count": 45,
   "metadata": {},
   "outputs": [
    {
     "data": {
      "text/plain": [
       "['CREATE SCHEMA reporting;',\n",
       " 'CREATE OR REPLACE VIEW reporting.flight AS\\nSELECT \\n    *,\\n    CASE \\n        WHEN dep_delay_new > 15 THEN 1\\n        ELSE 0\\n    END AS is_delayed\\nFROM \\n    flight\\nWHERE \\n    cancelled = 0;',\n",
       " 'CREATE OR REPLACE VIEW reporting.top_airports_by_departure AS\\nWITH dep_stat AS (\\n    SELECT\\n        origin_airport_id AS origin_airport_id,\\n        COUNT(is_delayed) AS total_departures,\\n        SUM(is_delayed) AS delayed_departures\\n    FROM\\n        reporting.flight\\n    GROUP BY\\n        origin_airport_id\\n),\\narr_stat AS (\\n    SELECT\\n        dest_airport_id AS dest_airport_id,\\n        COUNT(dest_airport_id) AS total_arrivals\\n    FROM\\n        reporting.flight\\n    GROUP BY\\n        dest_airport_id\\n)\\nSELECT\\n    d.origin_airport_id,\\n    d.total_departures,\\n    d.delayed_departures,\\n    a.total_arrivals,\\n    ROUND((d.delayed_departures * 1.0 / d.total_departures), 4) AS delay_percentage\\nFROM\\n    dep_stat AS d\\nJOIN arr_stat AS a ON d.origin_airport_id = a.dest_airport_id\\nORDER BY\\n    delay_percentage DESC\\nLIMIT 10;',\n",
       " 'CREATE OR REPLACE VIEW reporting.top_reliability_roads AS\\nWITH cte AS(\\nSELECT\\n    origin_airport_id,\\n    dest_airport_id,\\n    year,\\n    COUNT(*) AS total_flights,\\n    SUM(is_delayed) AS delayed_flights,\\n    ROUND(SUM(is_delayed) * 1.0/ COUNT(*), 4) AS delay_percentage\\nFROM\\n    reporting.flight\\nGROUP BY\\n    origin_airport_id, dest_airport_id, year\\nHAVING\\n    COUNT(*) >= 10000\\n)\\nSELECT\\n    c.origin_airport_id,\\n    ao.display_airport_name AS origin_airport_name,\\n    c.dest_airport_id,\\n    ad.display_airport_name AS dest_airport_name,\\n    c.year,\\n    c.total_flights AS cnt,\\n    c.delay_percentage AS reliability,\\n    DENSE_RANK() OVER (ORDER BY c.delay_percentage DESC) AS nb\\nFROM\\n    cte AS c\\nLEFT JOIN airport_list AS ao ON c.origin_airport_id = ao.origin_airport_id\\nLEFT JOIN airport_list AS ad ON c.dest_airport_id = ad.origin_airport_id\\nORDER BY\\n    c.delay_percentage DESC;',\n",
       " 'CREATE OR REPLACE VIEW reporting.year_to_year_comparision AS\\nSELECT\\n    year,\\n    month,\\n    COUNT(*) AS flights_amount,\\n    ROUND(SUM(is_delayed) * 1.0/ COUNT(*), 4) AS reliability\\nFROM\\n    reporting.flight\\nGROUP BY\\n    year, month;',\n",
       " 'CREATE OR REPLACE VIEW reporting.day_to_day_comparision AS\\nSELECT\\n    year,\\n    day_of_week,\\n    COUNT(*) AS flights_amount,\\n    ROUND(SUM(is_delayed) * 1.0/ COUNT(*), 4) AS reliability\\nFROM\\n    reporting.flight\\nGROUP BY\\n    year, day_of_week;',\n",
       " \"CREATE OR REPLACE VIEW reporting.day_by_day_reliability AS\\nWITH calculation AS (\\nSELECT\\n    year::text,\\n    LPAD(month::text, 2, '0') AS month,\\n    LPAD(day_of_month::text, 2, '0') AS day_of_month,\\n    COUNT(*) AS flights_amount,\\n    ROUND(SUM(is_delayed) * 1.0/ COUNT(*), 4) AS reliability\\nFROM\\n    reporting.flight\\nGROUP BY\\n    year, month, day_of_month\\n)\\nSELECT\\n    to_date(year || '-' || month || '-' || day_of_month, 'YYYY-MM-DD') AS date,\\n    reliability\\nFROM\\n    calculation;\"]"
      ]
     },
     "execution_count": 45,
     "metadata": {},
     "output_type": "execute_result"
    }
   ],
   "source": [
    "sql_commands"
   ]
  },
  {
   "cell_type": "markdown",
   "metadata": {},
   "source": [
    "##### W tym miejscu wczytujemy każdą z kwerend, aby zainicjować raport"
   ]
  },
  {
   "cell_type": "code",
   "execution_count": 48,
   "metadata": {},
   "outputs": [
    {
     "name": "stdout",
     "output_type": "stream",
     "text": [
      "Wszystkie operacje zakończyły się sukcesem, commit wykonany.\n"
     ]
    }
   ],
   "source": [
    "try:\n",
    "    # Iterujemy przez każdą komendę SQL\n",
    "    for command in sql_commands:\n",
    "        cursor.execute(command)\n",
    "\n",
    "    # Jeśli wszystkie komendy zakończą się sukcesem, zatwierdzamy transakcję\n",
    "    connection.commit()\n",
    "    print(\"Wszystkie operacje zakończyły się sukcesem, commit wykonany.\")\n",
    "\n",
    "except Exception as e:\n",
    "    # W przypadku błędu, wycofujemy wszystkie zmiany\n",
    "    connection.rollback()\n",
    "    print(f\"Wystąpił błąd: {e}. Wykonano rollback.\")\n",
    "\n",
    "finally:\n",
    "    # Zamykamy kursor i połączenie w tym miejscu, aby w przypadku wystąpienia błędu połączenie nie zostało otwarte\n",
    "    cursor.close()\n",
    "    connection.close()"
   ]
  },
  {
   "cell_type": "markdown",
   "metadata": {},
   "source": [
    " # Podsumownie\n",
    " W tym notatniku stworzyliśmy nowy schemat - `reporting`, którego zadaniem jest przygotowanie naszych danych\n",
    " do wizualizacji. Dalsza część pracy będzie polegała na wyświetleniu w wizualnie atrakcyjny sposób danych w interaktywnym raporcie stworzonym\n",
    " z pomocą `Dash`."
   ]
  }
 ],
 "metadata": {
  "kernelspec": {
   "display_name": "venv_portfolio",
   "language": "python",
   "name": "venv_portfolio"
  },
  "language_info": {
   "codemirror_mode": {
    "name": "ipython",
    "version": 3
   },
   "file_extension": ".py",
   "mimetype": "text/x-python",
   "name": "python",
   "nbconvert_exporter": "python",
   "pygments_lexer": "ipython3",
   "version": "3.12.4"
  },
  "vscode": {
   "interpreter": {
    "hash": "38d75d0df746d7f75dd34c5d1915af59cb55786647bd68b8d9064425d7680b12"
   }
  }
 },
 "nbformat": 4,
 "nbformat_minor": 4
}
