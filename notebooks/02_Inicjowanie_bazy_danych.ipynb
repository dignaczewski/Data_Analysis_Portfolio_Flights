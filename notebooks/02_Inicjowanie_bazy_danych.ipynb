{
 "cells": [
  {
   "cell_type": "markdown",
   "metadata": {},
   "source": [
    " # Opis notatnika\n",
    " W tym notatniku tworzymy dedykowaną bazę danych wraz ze strukturą tabel, która zostanie uzupełniona w nastęnym notatniku."
   ]
  },
  {
   "cell_type": "markdown",
   "metadata": {},
   "source": [
    "##### Importujemy potrzebne biblioteki"
   ]
  },
  {
   "cell_type": "code",
   "execution_count": 26,
   "metadata": {},
   "outputs": [],
   "source": [
    "import psycopg2\n",
    "from dotenv import load_dotenv\n",
    "import os"
   ]
  },
  {
   "cell_type": "markdown",
   "metadata": {},
   "source": [
    " ## Połączenie z bazą danych"
   ]
  },
  {
   "cell_type": "code",
   "execution_count": 29,
   "metadata": {},
   "outputs": [
    {
     "data": {
      "text/plain": [
       "True"
      ]
     },
     "execution_count": 29,
     "metadata": {},
     "output_type": "execute_result"
    }
   ],
   "source": [
    "# Ładujemy zmienne środowiskowe z pliku .env\n",
    "load_dotenv('DB_pass.env')"
   ]
  },
  {
   "cell_type": "code",
   "execution_count": 38,
   "metadata": {},
   "outputs": [],
   "source": [
    "# Używamy zmiennych środowiskowych do połączenia się z istniejącą bazą danych\n",
    "connection = psycopg2.connect(\n",
    "    dbname=os.getenv(\"O_DB_NAME\"),\n",
    "    user=os.getenv(\"DB_USER\"),\n",
    "    password=os.getenv(\"DB_PASSWORD\"),\n",
    "    host=os.getenv(\"DB_HOST\"),\n",
    "    port=os.getenv(\"DB_PORT\")\n",
    ")\n",
    "\n",
    "connection.autocommit = True\n",
    "cursor = connection.cursor()\n",
    "\n",
    "# Tworzymy nową bazę danych\n",
    "cursor.execute(\"CREATE DATABASE airlines_project;\")\n",
    "conn.close()"
   ]
  },
  {
   "cell_type": "code",
   "execution_count": 92,
   "metadata": {},
   "outputs": [],
   "source": [
    "# Używamy zmiennych środowiskowych do połączenia się z nowo utworzoną bazą danych\n",
    "connection = psycopg2.connect(\n",
    "    dbname=os.getenv(\"N_DB_NAME\"),\n",
    "    user=os.getenv(\"DB_USER\"),\n",
    "    password=os.getenv(\"DB_PASSWORD\"),\n",
    "    host=os.getenv(\"DB_HOST\"),\n",
    "    port=os.getenv(\"DB_PORT\")\n",
    ")\n",
    "\n",
    "cursor = connection.cursor()"
   ]
  },
  {
   "cell_type": "markdown",
   "metadata": {},
   "source": [
    " ## Wczytanie pliku `database_schema.sql`\n",
    " Z katalogu `sql` wczytujemy plik `database_schema.sql`"
   ]
  },
  {
   "cell_type": "code",
   "execution_count": 42,
   "metadata": {},
   "outputs": [],
   "source": [
    "# Wczytujemy strukturę bazy danych z pliku .sql\n",
    "with open('../sql/database_schema.sql', 'r') as file:\n",
    "    schema_sql = file.read()"
   ]
  },
  {
   "cell_type": "code",
   "execution_count": 48,
   "metadata": {},
   "outputs": [
    {
     "name": "stdout",
     "output_type": "stream",
     "text": [
      "DROP TABLE IF EXISTS public.aircraft CASCADE;\n",
      "CREATE TABLE IF NOT EXISTS public.aircraft\n",
      "(\n",
      "    id serial,\n",
      "    manufacture_year bigint,\n",
      "    tail_num text,\n",
      "    number_of_seats double precision\n",
      ")\n",
      ";\n",
      "\n",
      "CREATE OR REPLACE VIEW public.v_aircraft_blocker AS\n",
      "SELECT 1 FROM public.aircraft LIMIT 1;\n",
      "\n",
      "DROP TABLE IF EXISTS public.airport_weather CASCADE;\n",
      "CREATE TABLE IF NOT EXISTS public.airport_weather\n",
      "(\n",
      "    id serial,\n",
      "    station text,\n",
      "    name text,\n",
      "    date text,\n",
      "    awnd double precision,\n",
      "    pgtm double precision,\n",
      "    prcp double precision,\n",
      "    snow double precision,\n",
      "    snwd double precision,\n",
      "    tavg double precision,\n",
      "    tmax double precision,\n",
      "    tmin double precision,\n",
      "    wdf2 double precision,\n",
      "    wdf5 double precision,\n",
      "    wsf2 double precision,\n",
      "    wsf5 double precision,\n",
      "    wt01 double precision,\n",
      "    wt02 double precision,\n",
      "    wt03 double precision,\n",
      "    wt04 double precision,\n",
      "    wt05 double precision,\n",
      "    wt06 double precision,\n",
      "    wt07 double precision,\n",
      "    wt08 double precision,\n",
      "    wt09 double precision,\n",
      "    wesd double precision,\n",
      "    wt10 double precision,\n",
      "    psun double precision,\n",
      "    tsun double precision,\n",
      "    sn32 double precision,\n",
      "    sx32 double precision,\n",
      "    tobs double precision,\n",
      "    wt11 double precision,\n",
      "    wt18 double precision\n",
      ")\n",
      ";\n",
      "\n",
      "/* BLOCKER TO FORCE USAGE if_exists in PANDAS REMOVE IF OBSTACLE*/\n",
      "CREATE OR REPLACE VIEW public.v_aircraft_weather_blocker AS\n",
      "SELECT 1 FROM public.airport_weather LIMIT 1;\n",
      "\n",
      "DROP TABLE IF EXISTS public.flight CASCADE;\n",
      "CREATE TABLE IF NOT EXISTS public.flight\n",
      "(\n",
      "    id serial,\n",
      "    month bigint,\n",
      "    day_of_month bigint,\n",
      "    day_of_week bigint,\n",
      "    op_unique_carrier text,\n",
      "    tail_num text,\n",
      "    op_carrier_fl_num bigint,\n",
      "    origin_airport_id bigint,\n",
      "    dest_airport_id bigint,\n",
      "    crs_dep_time bigint,\n",
      "    dep_time double precision,\n",
      "    dep_delay_new double precision,\n",
      "    dep_time_blk text,\n",
      "    crs_arr_time bigint,\n",
      "    arr_time double precision,\n",
      "    arr_delay_new double precision,\n",
      "    arr_time_blk text,\n",
      "    cancelled double precision,\n",
      "    crs_elapsed_time double precision,\n",
      "    actual_elapsed_time double precision,\n",
      "    distance double precision,\n",
      "    distance_group bigint,\n",
      "    carrier_delay double precision,\n",
      "    weather_delay double precision,\n",
      "    nas_delay double precision,\n",
      "    security_delay double precision,\n",
      "    late_aircraft_delay double precision,\n",
      "    year bigint\n",
      ")\n",
      ";\n",
      "\n",
      "/* BLOCKER TO FORCE USAGE if_exists in PANDAS REMOVE IF OBSTACLE*/\n",
      "CREATE OR REPLACE VIEW public.v_flight_blocker AS\n",
      "SELECT 1 FROM public.flight LIMIT 1;\n",
      "\n",
      "DROP TABLE IF EXISTS public.airport_list CASCADE;\n",
      "CREATE TABLE IF NOT EXISTS public.airport_list\n",
      "(\n",
      "    id serial,\n",
      "    origin_airport_id bigint,\n",
      "    display_airport_name text ,\n",
      "    origin_city_name text ,\n",
      "    name text \n",
      ")\n",
      ";\n",
      "\n",
      "CREATE OR REPLACE VIEW public.v_airport_list_blocker AS\n",
      "SELECT 1 FROM public.airport_list LIMIT 1\n"
     ]
    }
   ],
   "source": [
    "print(schema_sql)"
   ]
  },
  {
   "cell_type": "code",
   "execution_count": 139,
   "metadata": {},
   "outputs": [],
   "source": [
    "# Dzielimy zawartość pliku na poszczególne komendy zakończone średnikiem\n",
    "sql_commands = schema_sql.split(';')"
   ]
  },
  {
   "cell_type": "code",
   "execution_count": 143,
   "metadata": {},
   "outputs": [],
   "source": [
    "# Dodajemy średnik na końcu każdej komendy, czyścimy tekst z niepotrzbnych znaków białych\n",
    "sql_commands = [command.strip() + ';' for command in sql_commands]"
   ]
  },
  {
   "cell_type": "code",
   "execution_count": 145,
   "metadata": {},
   "outputs": [
    {
     "data": {
      "text/plain": [
       "['DROP TABLE IF EXISTS public.aircraft CASCADE;',\n",
       " 'CREATE TABLE IF NOT EXISTS public.aircraft\\n(\\n    id serial,\\n    manufacture_year bigint,\\n    tail_num text,\\n    number_of_seats double precision\\n);',\n",
       " 'CREATE OR REPLACE VIEW public.v_aircraft_blocker AS\\nSELECT 1 FROM public.aircraft LIMIT 1;',\n",
       " 'DROP TABLE IF EXISTS public.airport_weather CASCADE;',\n",
       " 'CREATE TABLE IF NOT EXISTS public.airport_weather\\n(\\n    id serial,\\n    station text,\\n    name text,\\n    date text,\\n    awnd double precision,\\n    pgtm double precision,\\n    prcp double precision,\\n    snow double precision,\\n    snwd double precision,\\n    tavg double precision,\\n    tmax double precision,\\n    tmin double precision,\\n    wdf2 double precision,\\n    wdf5 double precision,\\n    wsf2 double precision,\\n    wsf5 double precision,\\n    wt01 double precision,\\n    wt02 double precision,\\n    wt03 double precision,\\n    wt04 double precision,\\n    wt05 double precision,\\n    wt06 double precision,\\n    wt07 double precision,\\n    wt08 double precision,\\n    wt09 double precision,\\n    wesd double precision,\\n    wt10 double precision,\\n    psun double precision,\\n    tsun double precision,\\n    sn32 double precision,\\n    sx32 double precision,\\n    tobs double precision,\\n    wt11 double precision,\\n    wt18 double precision\\n);',\n",
       " '/* BLOCKER TO FORCE USAGE if_exists in PANDAS REMOVE IF OBSTACLE*/\\nCREATE OR REPLACE VIEW public.v_aircraft_weather_blocker AS\\nSELECT 1 FROM public.airport_weather LIMIT 1;',\n",
       " 'DROP TABLE IF EXISTS public.flight CASCADE;',\n",
       " 'CREATE TABLE IF NOT EXISTS public.flight\\n(\\n    id serial,\\n    month bigint,\\n    day_of_month bigint,\\n    day_of_week bigint,\\n    op_unique_carrier text,\\n    tail_num text,\\n    op_carrier_fl_num bigint,\\n    origin_airport_id bigint,\\n    dest_airport_id bigint,\\n    crs_dep_time bigint,\\n    dep_time double precision,\\n    dep_delay_new double precision,\\n    dep_time_blk text,\\n    crs_arr_time bigint,\\n    arr_time double precision,\\n    arr_delay_new double precision,\\n    arr_time_blk text,\\n    cancelled double precision,\\n    crs_elapsed_time double precision,\\n    actual_elapsed_time double precision,\\n    distance double precision,\\n    distance_group bigint,\\n    carrier_delay double precision,\\n    weather_delay double precision,\\n    nas_delay double precision,\\n    security_delay double precision,\\n    late_aircraft_delay double precision,\\n    year bigint\\n);',\n",
       " '/* BLOCKER TO FORCE USAGE if_exists in PANDAS REMOVE IF OBSTACLE*/\\nCREATE OR REPLACE VIEW public.v_flight_blocker AS\\nSELECT 1 FROM public.flight LIMIT 1;',\n",
       " 'DROP TABLE IF EXISTS public.airport_list CASCADE;',\n",
       " 'CREATE TABLE IF NOT EXISTS public.airport_list\\n(\\n    id serial,\\n    origin_airport_id bigint,\\n    display_airport_name text ,\\n    origin_city_name text ,\\n    name text \\n);',\n",
       " 'CREATE OR REPLACE VIEW public.v_airport_list_blocker AS\\nSELECT 1 FROM public.airport_list LIMIT 1;']"
      ]
     },
     "execution_count": 145,
     "metadata": {},
     "output_type": "execute_result"
    }
   ],
   "source": [
    "sql_commands"
   ]
  },
  {
   "cell_type": "markdown",
   "metadata": {},
   "source": [
    "##### W tym miejscu wczytujemy każdą z kwerend, aby zainicjować strukturę bazy danych"
   ]
  },
  {
   "cell_type": "code",
   "execution_count": 94,
   "metadata": {},
   "outputs": [
    {
     "name": "stdout",
     "output_type": "stream",
     "text": [
      "Wszystkie operacje zakończyły się sukcesem, commit wykonany.\n"
     ]
    }
   ],
   "source": [
    "try:\n",
    "    # Iterujemy przez każdą komendę SQL\n",
    "    for command in sql_commands:\n",
    "        cursor.execute(command)\n",
    "\n",
    "    # Jeśli wszystkie komendy zakończą się sukcesem, zatwierdzamy transakcję\n",
    "    connection.commit()\n",
    "    print(\"Wszystkie operacje zakończyły się sukcesem, commit wykonany.\")\n",
    "\n",
    "except Exception as e:\n",
    "    # W przypadku błędu, wycofujemy wszystkie zmiany\n",
    "    connection.rollback()\n",
    "    print(f\"Wystąpił błąd: {e}. Wykonano rollback.\")\n",
    "\n",
    "finally:\n",
    "    # Zamykamy kursor i połączenie w tym miejscu, aby w przypadku wystąpienia błędu połączenie nie zostało otwarte\n",
    "    cursor.close()\n",
    "    connection.close()"
   ]
  },
  {
   "cell_type": "markdown",
   "metadata": {},
   "source": [
    " ### Sprawdzenie\n",
    " Uruchamiamy poniższy kod, aby sprawdzić, czy faktycznie ta baza danych została zainicjowana prawidłowo."
   ]
  },
  {
   "cell_type": "code",
   "execution_count": 121,
   "metadata": {},
   "outputs": [],
   "source": [
    "# Używamy zmiennych środowiskowych do połączenia się z nowo utworzoną bazą danych\n",
    "connection = psycopg2.connect(\n",
    "    dbname=os.getenv(\"N_DB_NAME\"),\n",
    "    user=os.getenv(\"DB_USER\"),\n",
    "    password=os.getenv(\"DB_PASSWORD\"),\n",
    "    host=os.getenv(\"DB_HOST\"),\n",
    "    port=os.getenv(\"DB_PORT\")\n",
    ")\n",
    "\n",
    "cursor = connection.cursor()"
   ]
  },
  {
   "cell_type": "code",
   "execution_count": 123,
   "metadata": {},
   "outputs": [],
   "source": [
    "def check_if_table_exists(table_name):\n",
    "    msg = f\"Sprawdzam czy istnieje tabela {table_name}\"\n",
    "    print(msg)\n",
    "\n",
    "    query = f\"select 1 from {table_name}\"\n",
    "    # jeżeli tabela nie istnieje, ten krok zwróci wyjątek\n",
    "    cursor.execute(query)\n",
    "    print('OK!')"
   ]
  },
  {
   "cell_type": "code",
   "execution_count": 125,
   "metadata": {},
   "outputs": [],
   "source": [
    "tables_to_test = [\n",
    "    'aircraft',\n",
    "    'airport_weather',\n",
    "    'flight',\n",
    "    'airport_list'\n",
    "]"
   ]
  },
  {
   "cell_type": "code",
   "execution_count": 127,
   "metadata": {},
   "outputs": [
    {
     "name": "stdout",
     "output_type": "stream",
     "text": [
      "Sprawdzam czy istnieje tabela aircraft\n",
      "OK!\n",
      "Sprawdzam czy istnieje tabela airport_weather\n",
      "OK!\n",
      "Sprawdzam czy istnieje tabela flight\n",
      "OK!\n",
      "Sprawdzam czy istnieje tabela airport_list\n",
      "OK!\n"
     ]
    }
   ],
   "source": [
    "for table in tables_to_test:\n",
    "    check_if_table_exists(table)"
   ]
  },
  {
   "cell_type": "code",
   "execution_count": 129,
   "metadata": {},
   "outputs": [
    {
     "name": "stdout",
     "output_type": "stream",
     "text": [
      "Wszystko wygląda OK :) Przechodzimy do kolejnego zadania.\n"
     ]
    }
   ],
   "source": [
    "connection.close()\n",
    "msg = \"Wszystko wygląda OK :) Przechodzimy do kolejnego zadania.\"\n",
    "print(msg)"
   ]
  }
 ],
 "metadata": {
  "kernelspec": {
   "display_name": "venv_portfolio",
   "language": "python",
   "name": "venv_portfolio"
  },
  "language_info": {
   "codemirror_mode": {
    "name": "ipython",
    "version": 3
   },
   "file_extension": ".py",
   "mimetype": "text/x-python",
   "name": "python",
   "nbconvert_exporter": "python",
   "pygments_lexer": "ipython3",
   "version": "3.12.4"
  },
  "vscode": {
   "interpreter": {
    "hash": "38d75d0df746d7f75dd34c5d1915af59cb55786647bd68b8d9064425d7680b12"
   }
  }
 },
 "nbformat": 4,
 "nbformat_minor": 4
}
