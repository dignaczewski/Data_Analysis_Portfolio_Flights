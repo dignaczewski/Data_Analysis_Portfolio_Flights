{
 "cells": [
  {
   "cell_type": "markdown",
   "metadata": {},
   "source": [
    " # INTRO\n",
    "\n",
    "Na potrzeby tego projektu został stworzony dedykowany serwis API, który dostępny jest pod adresem: https://api-datalab.coderslab.com/api/v2. Dodatkowo udostępniona została dokumentacja, z którą można zapoznać się tutaj: [klik](https://api-datalab.coderslab.com/v2/docs/).\n",
    "\n",
    " > Dokumentacja jest czysto techniczna i ma na celu prezentację dostępnych endpointów wraz ze zwracanym typem. W celu przetestowania należy kliknąć przysisk `Authorize`, podać token (dostępny poniżej), a następnie `Try it out!` oraz uzupełnić wymagane pola (parametry requesta).\n",
    "\n",
    " Zgodnie z dokumentacją stwierdzamy, że udostępnione zostały nam 4 endpointy:\n",
    " - `airport` - dane o lotnisku,\n",
    " - `weather` - informacje o zarejestrowaniej pogodzie na lotnisku danego dnia,\n",
    " - `aircraft` - dane o samolotach\n",
    " - `flights` - dane o wylotach z danego lotniska per dzień.\n",
    "\n",
    " W celu pobrania informacji, gdzie wymagany jest paramatr `airportId`, posłużymy się listą z pliku `airports.csv`.\n",
    "\n",
    " ### Uwagi\n",
    " - Limit wywołań API to 1000/min, zadbaj o nieprzekroczenie tego limitu – w przeciwnym wypadku będzie zwracany błąd 429."
   ]
  },
  {
   "cell_type": "markdown",
   "metadata": {},
   "source": [
    " # Konfiguracja notatnika"
   ]
  },
  {
   "cell_type": "markdown",
   "metadata": {},
   "source": [
    "##### Importujemy wymagane biblioteki"
   ]
  },
  {
   "cell_type": "code",
   "execution_count": 7,
   "metadata": {},
   "outputs": [],
   "source": [
    "import pandas as pd\n",
    "import requests\n",
    "import time\n",
    "from dotenv import load_dotenv\n",
    "import os"
   ]
  },
  {
   "cell_type": "markdown",
   "metadata": {},
   "source": [
    "##### Definiujemy paramatry połączenia do API"
   ]
  },
  {
   "cell_type": "code",
   "execution_count": 9,
   "metadata": {},
   "outputs": [
    {
     "data": {
      "text/plain": [
       "True"
      ]
     },
     "execution_count": 9,
     "metadata": {},
     "output_type": "execute_result"
    }
   ],
   "source": [
    "# Ładujemy zmienne środowiskowe z pliku .env\n",
    "load_dotenv('DB_pass.env')"
   ]
  },
  {
   "cell_type": "code",
   "execution_count": 11,
   "metadata": {},
   "outputs": [],
   "source": [
    "api_token = os.getenv(\"api_token\")\n",
    "api_airport_path = \"https://api-datalab.coderslab.com/api/v2/airport/\"\n",
    "api_airport__weather_path = \"https://api-datalab.coderslab.com/api/v2/airportWeather?date=\"\n",
    "api_aircraft_path = \"https://api-datalab.coderslab.com/api/v2/aircraft\"\n",
    "api_flight_path = \"https://api-datalab.coderslab.com/api/v2/flight?\""
   ]
  },
  {
   "cell_type": "markdown",
   "metadata": {},
   "source": [
    "##### Wczytujemy plik `airports.csv` i dostosowyjemy go do dalszych kroków w celu pobierania z kolejnych endpointów. Lista lotnisk jest dostępna w kolumnie `origin_airport_id`."
   ]
  },
  {
   "cell_type": "code",
   "execution_count": 9,
   "metadata": {
    "scrolled": true
   },
   "outputs": [
    {
     "data": {
      "text/html": [
       "<div>\n",
       "<style scoped>\n",
       "    .dataframe tbody tr th:only-of-type {\n",
       "        vertical-align: middle;\n",
       "    }\n",
       "\n",
       "    .dataframe tbody tr th {\n",
       "        vertical-align: top;\n",
       "    }\n",
       "\n",
       "    .dataframe thead th {\n",
       "        text-align: right;\n",
       "    }\n",
       "</style>\n",
       "<table border=\"1\" class=\"dataframe\">\n",
       "  <thead>\n",
       "    <tr style=\"text-align: right;\">\n",
       "      <th></th>\n",
       "      <th>origin_airport_id</th>\n",
       "    </tr>\n",
       "  </thead>\n",
       "  <tbody>\n",
       "    <tr>\n",
       "      <th>0</th>\n",
       "      <td>10874</td>\n",
       "    </tr>\n",
       "    <tr>\n",
       "      <th>1</th>\n",
       "      <td>11233</td>\n",
       "    </tr>\n",
       "    <tr>\n",
       "      <th>2</th>\n",
       "      <td>13360</td>\n",
       "    </tr>\n",
       "    <tr>\n",
       "      <th>3</th>\n",
       "      <td>15008</td>\n",
       "    </tr>\n",
       "    <tr>\n",
       "      <th>4</th>\n",
       "      <td>11638</td>\n",
       "    </tr>\n",
       "  </tbody>\n",
       "</table>\n",
       "</div>"
      ],
      "text/plain": [
       "   origin_airport_id\n",
       "0              10874\n",
       "1              11233\n",
       "2              13360\n",
       "3              15008\n",
       "4              11638"
      ]
     },
     "execution_count": 9,
     "metadata": {},
     "output_type": "execute_result"
    }
   ],
   "source": [
    "# Wczytujemy plik CSV do DataFrame o nazwie 'airports'\n",
    "file_path = '../data/airports.csv'\n",
    "airports = pd.read_csv(file_path)\n",
    "airports.head()"
   ]
  },
  {
   "cell_type": "code",
   "execution_count": 10,
   "metadata": {},
   "outputs": [
    {
     "name": "stdout",
     "output_type": "stream",
     "text": [
      "Liczba wartości NULL (NaN) w kolumnie 'origin_airport_id': 0\n",
      "Liczba duplikatów w kolumnie 'origin_airport_id': 0\n"
     ]
    }
   ],
   "source": [
    "# Sprawdzenie ilości wartości NULL (NaN) w kolumnie origin_airport_id\n",
    "null_count = airports['origin_airport_id'].isna().sum()\n",
    "print(f\"Liczba wartości NULL (NaN) w kolumnie 'origin_airport_id': {null_count}\")\n",
    "\n",
    "# Sprawdzenie ilości duplikatów w kolumnie origin_airport_id\n",
    "duplicate_count = airports['origin_airport_id'].duplicated().sum()\n",
    "print(f\"Liczba duplikatów w kolumnie 'origin_airport_id': {duplicate_count}\")"
   ]
  },
  {
   "cell_type": "markdown",
   "metadata": {},
   "source": [
    " # Pobieranie `Airport`\n",
    "Po zapoznaniu się z dokumentacją endpointu `airport`, pobieramy dane dot. poszczególnych lotnisk. Wyniki tego kroku zapisujemy do ramki `airport_df`, a następnie do pliku `csv`."
   ]
  },
  {
   "cell_type": "markdown",
   "metadata": {},
   "source": [
    "##### Testujemy podłączenie do endpoint'u `airport`"
   ]
  },
  {
   "cell_type": "code",
   "execution_count": 13,
   "metadata": {},
   "outputs": [
    {
     "name": "stdout",
     "output_type": "stream",
     "text": [
      "Status: 200\n",
      "Cała treść odpowiedzi: {'ORIGIN_AIRPORT_ID': 11638, 'DISPLAY_AIRPORT_NAME': 'Fresno Air Terminal', 'ORIGIN_CITY_NAME': 'Fresno, CA', 'NAME': 'FRESNO YOSEMITE INTERNATIONAL, CA US'}\n"
     ]
    }
   ],
   "source": [
    "# Testowanie poprawności zapytania na podstawie jednego lotniska\n",
    "response = requests.get(f'{api_airport_path}11638', headers={'authorization': api_token})\n",
    "\n",
    "print('Status:', response.status_code)\n",
    "print('Cała treść odpowiedzi:', response.json())"
   ]
  },
  {
   "cell_type": "markdown",
   "metadata": {},
   "source": [
    "##### Pobieramy dane z endpoint'u `airport`"
   ]
  },
  {
   "cell_type": "code",
   "execution_count": 15,
   "metadata": {},
   "outputs": [],
   "source": [
    "# Lista do przechowywania wyników\n",
    "airports_details_list = []\n",
    "airport_not_exit = []\n",
    "\n",
    "# Licznik zapytań\n",
    "request_count = 0\n",
    "max_requests = 1000  # Maksymalna liczba zapytań na minutę\n",
    "\n",
    "# Iteracja przez każdy 'origin_airport_id' w DataFrame 'airports'\n",
    "for airport_id in airports['origin_airport_id']:\n",
    "    # Wysyłanie zapytania do API dla każdego 'origin_airport_id'\n",
    "    response = requests.get(f'{api_airport_path}{airport_id}', headers={'authorization': api_token})\n",
    "    \n",
    "    # Zwiększenie licznika zapytań\n",
    "    request_count += 1\n",
    "    \n",
    "    # Sprawdzenie, czy odpowiedź jest poprawna (status 200)\n",
    "    if response.status_code == 200:\n",
    "        data = response.json()  # Parsowanie odpowiedzi JSON\n",
    "        airports_details_list.append(data)    # Dodanie danych do listy wyników\n",
    "    else:\n",
    "        airport_not_exit.append(airport_id)\n",
    "\n",
    "    # Sprawdzenie, czy osiągnięto limit zapytań\n",
    "    if request_count == max_requests:\n",
    "        print(\"Reached 1000 requests, waiting for 60 seconds...\")\n",
    "        time.sleep(60)  # Pauza na 60 sekund\n",
    "        request_count = 0  # Zresetowanie licznika zapytań\n",
    "\n",
    "# Tworzenie nowego DataFrame z wyników\n",
    "airport_df = pd.DataFrame.from_records(airports_details_list)"
   ]
  },
  {
   "cell_type": "code",
   "execution_count": 16,
   "metadata": {},
   "outputs": [
    {
     "name": "stdout",
     "output_type": "stream",
     "text": [
      "Airports ID not found in API : [10874, 11233, 13360, 15008, 14150, 15323, 14814, 12007, 11337, 15070, 12280, 11641, 13832, 10268, 15041, 12119, 11537, 11092, 10581, 13829, 15389, 12389, 11648, 15023, 11982, 10967, 11525, 14259, 11637, 10466, 10208, 15841, 12898, 13241, 13367, 11481, 14108, 13873, 10157, 10245, 11146, 13277, 11109, 13459, 11775, 16218, 14698, 14252, 13256, 13139, 12250, 11468, 14952, 12402, 14574, 11977, 11867, 11203, 10747, 14905, 12012, 14783, 10431, 10434, 16869, 10408, 11624, 13541, 13422, 14689, 12391, 10868, 14711, 11067, 10562, 11695, 14109, 13970, 11076, 14092, 11122, 11288, 11308, 10754, 12884, 14588, 12915, 11603, 14457, 12206, 11252, 11905, 14120, 11980, 14025, 11150, 14709, 15897, 14006, 12902, 13061, 12016, 14794, 11921, 10731, 14828, 12441, 14802, 13230, 10631, 10141, 13184, 10643, 10333, 12255, 14487, 12129, 10551, 14256, 13377, 10627, 12335, 14633, 11274, 14543, 10158, 12951, 14004, 12544, 10739, 10165, 13964, 14314, 10990, 14812, 10561, 10146, 15991, 15401, 11587, 14520, 10185, 14534, 11111, 15024, 12917, 12124, 12523, 11630, 10170, 12448, 10918, 15356, 13344, 10676, 10926, 12156, 12244, 10666, 11612, 13476, 13029, 15411, 14986, 11471, 10155, 13486, 14716, 13296, 11283, 10732, 11003, 12094, 13158, 13121, 14877, 12217, 10372, 13264, 10469, 11336, 14112, 13502, 15027, 11973, 10361, 13388, 10577, 13290, 11577, 11140, 15048, 14960, 15295, 11865, 11049, 11953, 12223, 14254, 11823, 15380, 11447, 12003, 14489, 14082, 14113, 12891, 15249, 12819, 12323, 12343, 13076, 11503, 11617, 10728, 10785, 14674, 12197, 14696, 10781, 10849, 14955, 13433, 15074, 13127, 11013, 10154, 10980, 14098, 14512, 12278, 13933, 11997, 11027, 15582, 11721, 12896, 10279, 11778, 12888, 11415, 10685, 14842, 12265, 14288, 12397, 15624, 10409, 12519, 10136, 15607, 14237, 10779, 11898, 11413, 13983, 10558, 10620, 14222, 11097, 15454, 12899, 10135, 12177, 13795, 12945, 12511]\n"
     ]
    }
   ],
   "source": [
    "# Wyświetlanie listy id lotnisk, których ID nie znajduje się w API\n",
    "print(f\"Airports ID not found in API : {airport_not_exit}\")"
   ]
  },
  {
   "cell_type": "code",
   "execution_count": 17,
   "metadata": {},
   "outputs": [
    {
     "data": {
      "text/html": [
       "<div>\n",
       "<style scoped>\n",
       "    .dataframe tbody tr th:only-of-type {\n",
       "        vertical-align: middle;\n",
       "    }\n",
       "\n",
       "    .dataframe tbody tr th {\n",
       "        vertical-align: top;\n",
       "    }\n",
       "\n",
       "    .dataframe thead th {\n",
       "        text-align: right;\n",
       "    }\n",
       "</style>\n",
       "<table border=\"1\" class=\"dataframe\">\n",
       "  <thead>\n",
       "    <tr style=\"text-align: right;\">\n",
       "      <th></th>\n",
       "      <th>ORIGIN_AIRPORT_ID</th>\n",
       "      <th>DISPLAY_AIRPORT_NAME</th>\n",
       "      <th>ORIGIN_CITY_NAME</th>\n",
       "      <th>NAME</th>\n",
       "    </tr>\n",
       "  </thead>\n",
       "  <tbody>\n",
       "    <tr>\n",
       "      <th>0</th>\n",
       "      <td>11638</td>\n",
       "      <td>Fresno Air Terminal</td>\n",
       "      <td>Fresno, CA</td>\n",
       "      <td>FRESNO YOSEMITE INTERNATIONAL, CA US</td>\n",
       "    </tr>\n",
       "    <tr>\n",
       "      <th>1</th>\n",
       "      <td>13342</td>\n",
       "      <td>General Mitchell Field</td>\n",
       "      <td>Milwaukee, WI</td>\n",
       "      <td>MILWAUKEE MITCHELL AIRPORT, WI US</td>\n",
       "    </tr>\n",
       "    <tr>\n",
       "      <th>2</th>\n",
       "      <td>13244</td>\n",
       "      <td>Memphis International</td>\n",
       "      <td>Memphis, TN</td>\n",
       "      <td>MEMPHIS INTERNATIONAL AIRPORT, TN US</td>\n",
       "    </tr>\n",
       "    <tr>\n",
       "      <th>3</th>\n",
       "      <td>15096</td>\n",
       "      <td>Syracuse Hancock International</td>\n",
       "      <td>Syracuse, NY</td>\n",
       "      <td>SYRACUSE HANCOCK INTERNATIONAL AIRPORT, NY US</td>\n",
       "    </tr>\n",
       "    <tr>\n",
       "      <th>4</th>\n",
       "      <td>10397</td>\n",
       "      <td>Atlanta Municipal</td>\n",
       "      <td>Atlanta, GA</td>\n",
       "      <td>ATLANTA HARTSFIELD JACKSON INTERNATIONAL AIRPO...</td>\n",
       "    </tr>\n",
       "  </tbody>\n",
       "</table>\n",
       "</div>"
      ],
      "text/plain": [
       "   ORIGIN_AIRPORT_ID            DISPLAY_AIRPORT_NAME ORIGIN_CITY_NAME  \\\n",
       "0              11638             Fresno Air Terminal       Fresno, CA   \n",
       "1              13342          General Mitchell Field    Milwaukee, WI   \n",
       "2              13244           Memphis International      Memphis, TN   \n",
       "3              15096  Syracuse Hancock International     Syracuse, NY   \n",
       "4              10397               Atlanta Municipal      Atlanta, GA   \n",
       "\n",
       "                                                NAME  \n",
       "0               FRESNO YOSEMITE INTERNATIONAL, CA US  \n",
       "1                  MILWAUKEE MITCHELL AIRPORT, WI US  \n",
       "2               MEMPHIS INTERNATIONAL AIRPORT, TN US  \n",
       "3      SYRACUSE HANCOCK INTERNATIONAL AIRPORT, NY US  \n",
       "4  ATLANTA HARTSFIELD JACKSON INTERNATIONAL AIRPO...  "
      ]
     },
     "execution_count": 17,
     "metadata": {},
     "output_type": "execute_result"
    }
   ],
   "source": [
    "# Wyświetlanie pierwszych kilku wierszy nowego DataFrame\n",
    "airport_df.head()"
   ]
  },
  {
   "cell_type": "code",
   "execution_count": 18,
   "metadata": {},
   "outputs": [
    {
     "data": {
      "text/plain": [
       "(97, 4)"
      ]
     },
     "execution_count": 18,
     "metadata": {},
     "output_type": "execute_result"
    }
   ],
   "source": [
    "airport_df.shape"
   ]
  },
  {
   "cell_type": "markdown",
   "metadata": {},
   "source": [
    "##### Zapisujemy ramkę `airport_df` do pliku `airport_list.csv` w katalogu `data/raw`."
   ]
  },
  {
   "cell_type": "code",
   "execution_count": 20,
   "metadata": {},
   "outputs": [],
   "source": [
    "# Ścieżka do zapisu pliku CSV\n",
    "file_path = '../data/raw/airport_list.csv'\n",
    "\n",
    "# Zapisujemy ramkę danych do pliku CSV\n",
    "airport_df.to_csv(file_path, index=False)"
   ]
  },
  {
   "cell_type": "markdown",
   "metadata": {},
   "source": [
    " # Pobieranie `Weather`\n",
    "Po zapoznaniu się z dokumentacją endpointu Weather, pobieramy dane dot. pogody na poszczególnych lotniskach w okresie od 2019-01-01 do 2020-03-31. Wyniki tego kroku zapisujemy do ramki airport_weather_df, a następnie do pliku csv airport_weather.csv. Ze względu na czas, jaki ten krok może się wykonywać, dodano w pętli informację o ukończonym pobieraniu danych z pełnego miesiąca,aby monitorować przebieg wykonywania tego kroku."
   ]
  },
  {
   "cell_type": "code",
   "execution_count": 22,
   "metadata": {},
   "outputs": [
    {
     "name": "stdout",
     "output_type": "stream",
     "text": [
      "Status: 200\n"
     ]
    }
   ],
   "source": [
    "# Testowanie poprawności zapytania na podstawie jednego miesiąca\n",
    "response = requests.get(f'{api_airport__weather_path}2019-01-01', headers={'authorization': api_token})\n",
    "\n",
    "print('Status:', response.status_code)\n",
    "# print('Cała treść odpowiedzi:', response.json()) - ze względu na bardzo długą zawartość odpowiedzi, zostało to zakomentowane\n",
    "# API zwraca w odpowiedzi dane dla wszystkich lotnisk z całego miesiąca, zamiast tylko z jednego dnia, którego dotyczy zapytanie"
   ]
  },
  {
   "cell_type": "code",
   "execution_count": 23,
   "metadata": {},
   "outputs": [
    {
     "data": {
      "text/plain": [
       "DatetimeIndex(['2019-01-01', '2019-02-01', '2019-03-01', '2019-04-01',\n",
       "               '2019-05-01', '2019-06-01', '2019-07-01', '2019-08-01',\n",
       "               '2019-09-01', '2019-10-01', '2019-11-01', '2019-12-01',\n",
       "               '2020-01-01', '2020-02-01', '2020-03-01'],\n",
       "              dtype='datetime64[ns]', freq='MS')"
      ]
     },
     "execution_count": 23,
     "metadata": {},
     "output_type": "execute_result"
    }
   ],
   "source": [
    "# Definiujemy zakres dat do pobrania\n",
    "start_date = '2019-01-01'\n",
    "end_date = '2020-03-31'\n",
    "\n",
    "# Tworzymy listę pierwszych dni miesiąca\n",
    "first_days_of_months = pd.date_range(start=start_date, end=end_date, freq='MS')\n",
    "first_days_of_months"
   ]
  },
  {
   "cell_type": "code",
   "execution_count": 24,
   "metadata": {},
   "outputs": [
    {
     "name": "stdout",
     "output_type": "stream",
     "text": [
      "Pobrano dane dla miesiąca: 2019-01\n",
      "Pobrano dane dla miesiąca: 2019-02\n",
      "Pobrano dane dla miesiąca: 2019-03\n",
      "Pobrano dane dla miesiąca: 2019-04\n",
      "Pobrano dane dla miesiąca: 2019-05\n",
      "Pobrano dane dla miesiąca: 2019-06\n",
      "Pobrano dane dla miesiąca: 2019-07\n",
      "Pobrano dane dla miesiąca: 2019-08\n",
      "Pobrano dane dla miesiąca: 2019-09\n",
      "Pobrano dane dla miesiąca: 2019-10\n",
      "Pobrano dane dla miesiąca: 2019-11\n",
      "Pobrano dane dla miesiąca: 2019-12\n",
      "Pobrano dane dla miesiąca: 2020-01\n",
      "Pobrano dane dla miesiąca: 2020-02\n",
      "Pobrano dane dla miesiąca: 2020-03\n"
     ]
    }
   ],
   "source": [
    "# Lista do przechowywania wyników\n",
    "airports_weather_details_list = []\n",
    "\n",
    "# Licznik zapytań\n",
    "request_count = 0\n",
    "max_requests = 1000  # Maksymalna liczba zapytań na minutę\n",
    "\n",
    "# Iteracja zapytań dla każdego miesiąca\n",
    "for date in first_days_of_months:\n",
    "    # Wysyłanie zapytania do API dla każdego miesiąca\n",
    "    response = requests.get(f'{api_airport__weather_path}{date}', headers={'authorization': api_token})\n",
    "    \n",
    "    # Zwiększenie licznika zapytań - zapytań tu jest mało, ale dodaję jako dodatkowe zabezpieczenie\n",
    "    request_count += 1\n",
    "    \n",
    "    # Sprawdzenie, czy odpowiedź jest poprawna (status 200)\n",
    "    if response.status_code == 200:\n",
    "        data = response.json()  # Parsowanie odpowiedzi JSON\n",
    "        for record in data:\n",
    "            airports_weather_details_list.append(record)    # Dodanie danych do listy wyników\n",
    "    else:\n",
    "        print(f'Nie można pobrać danych dla daty: {str(date)[:7]} - Status code: {response.status_code}')\n",
    "\n",
    "    # Sprawdzenie, czy osiągnięto limit zapytań\n",
    "    if request_count == max_requests:\n",
    "        print(\"Reached 1000 requests, waiting for 60 seconds...\")\n",
    "        time.sleep(60)  # Pauza na 60 sekund\n",
    "        request_count = 0  # Zresetowanie licznika zapytań\n",
    "\n",
    "    # Wyświetlanie informacji, z którego miesiąca dane zostały już pobrane\n",
    "    print(f'Pobrano dane dla miesiąca: {str(date)[:7]}')\n",
    "\n",
    "# Tworzenie nowego DataFrame z wyników\n",
    "airport_weather_df = pd.DataFrame.from_records(airports_weather_details_list)"
   ]
  },
  {
   "cell_type": "code",
   "execution_count": 25,
   "metadata": {
    "scrolled": true
   },
   "outputs": [
    {
     "data": {
      "text/html": [
       "<div>\n",
       "<style scoped>\n",
       "    .dataframe tbody tr th:only-of-type {\n",
       "        vertical-align: middle;\n",
       "    }\n",
       "\n",
       "    .dataframe tbody tr th {\n",
       "        vertical-align: top;\n",
       "    }\n",
       "\n",
       "    .dataframe thead th {\n",
       "        text-align: right;\n",
       "    }\n",
       "</style>\n",
       "<table border=\"1\" class=\"dataframe\">\n",
       "  <thead>\n",
       "    <tr style=\"text-align: right;\">\n",
       "      <th></th>\n",
       "      <th>WT18</th>\n",
       "      <th>STATION</th>\n",
       "      <th>NAME</th>\n",
       "      <th>DATE</th>\n",
       "      <th>AWND</th>\n",
       "      <th>PRCP</th>\n",
       "      <th>SNOW</th>\n",
       "      <th>SNWD</th>\n",
       "      <th>TAVG</th>\n",
       "      <th>TMAX</th>\n",
       "      <th>...</th>\n",
       "      <th>PGTM</th>\n",
       "      <th>WT10</th>\n",
       "      <th>WESD</th>\n",
       "      <th>SN32</th>\n",
       "      <th>SX32</th>\n",
       "      <th>PSUN</th>\n",
       "      <th>TSUN</th>\n",
       "      <th>TOBS</th>\n",
       "      <th>WT07</th>\n",
       "      <th>WT11</th>\n",
       "    </tr>\n",
       "  </thead>\n",
       "  <tbody>\n",
       "    <tr>\n",
       "      <th>0</th>\n",
       "      <td>None</td>\n",
       "      <td>USW00013874</td>\n",
       "      <td>ATLANTA HARTSFIELD JACKSON INTERNATIONAL AIRPO...</td>\n",
       "      <td>2019-01-01</td>\n",
       "      <td>4.70</td>\n",
       "      <td>0.14</td>\n",
       "      <td>0.0</td>\n",
       "      <td>0.0</td>\n",
       "      <td>64.0</td>\n",
       "      <td>66.0</td>\n",
       "      <td>...</td>\n",
       "      <td>NaN</td>\n",
       "      <td>NaN</td>\n",
       "      <td>NaN</td>\n",
       "      <td>NaN</td>\n",
       "      <td>NaN</td>\n",
       "      <td>NaN</td>\n",
       "      <td>NaN</td>\n",
       "      <td>NaN</td>\n",
       "      <td>NaN</td>\n",
       "      <td>NaN</td>\n",
       "    </tr>\n",
       "    <tr>\n",
       "      <th>1</th>\n",
       "      <td>None</td>\n",
       "      <td>USW00013874</td>\n",
       "      <td>ATLANTA HARTSFIELD JACKSON INTERNATIONAL AIRPO...</td>\n",
       "      <td>2019-01-02</td>\n",
       "      <td>4.92</td>\n",
       "      <td>0.57</td>\n",
       "      <td>0.0</td>\n",
       "      <td>0.0</td>\n",
       "      <td>56.0</td>\n",
       "      <td>59.0</td>\n",
       "      <td>...</td>\n",
       "      <td>NaN</td>\n",
       "      <td>NaN</td>\n",
       "      <td>NaN</td>\n",
       "      <td>NaN</td>\n",
       "      <td>NaN</td>\n",
       "      <td>NaN</td>\n",
       "      <td>NaN</td>\n",
       "      <td>NaN</td>\n",
       "      <td>NaN</td>\n",
       "      <td>NaN</td>\n",
       "    </tr>\n",
       "    <tr>\n",
       "      <th>2</th>\n",
       "      <td>None</td>\n",
       "      <td>USW00013874</td>\n",
       "      <td>ATLANTA HARTSFIELD JACKSON INTERNATIONAL AIRPO...</td>\n",
       "      <td>2019-01-03</td>\n",
       "      <td>5.37</td>\n",
       "      <td>0.15</td>\n",
       "      <td>0.0</td>\n",
       "      <td>0.0</td>\n",
       "      <td>52.0</td>\n",
       "      <td>55.0</td>\n",
       "      <td>...</td>\n",
       "      <td>NaN</td>\n",
       "      <td>NaN</td>\n",
       "      <td>NaN</td>\n",
       "      <td>NaN</td>\n",
       "      <td>NaN</td>\n",
       "      <td>NaN</td>\n",
       "      <td>NaN</td>\n",
       "      <td>NaN</td>\n",
       "      <td>NaN</td>\n",
       "      <td>NaN</td>\n",
       "    </tr>\n",
       "    <tr>\n",
       "      <th>3</th>\n",
       "      <td>None</td>\n",
       "      <td>USW00013874</td>\n",
       "      <td>ATLANTA HARTSFIELD JACKSON INTERNATIONAL AIRPO...</td>\n",
       "      <td>2019-01-04</td>\n",
       "      <td>12.08</td>\n",
       "      <td>1.44</td>\n",
       "      <td>0.0</td>\n",
       "      <td>0.0</td>\n",
       "      <td>56.0</td>\n",
       "      <td>66.0</td>\n",
       "      <td>...</td>\n",
       "      <td>NaN</td>\n",
       "      <td>NaN</td>\n",
       "      <td>NaN</td>\n",
       "      <td>NaN</td>\n",
       "      <td>NaN</td>\n",
       "      <td>NaN</td>\n",
       "      <td>NaN</td>\n",
       "      <td>NaN</td>\n",
       "      <td>NaN</td>\n",
       "      <td>NaN</td>\n",
       "    </tr>\n",
       "    <tr>\n",
       "      <th>4</th>\n",
       "      <td>None</td>\n",
       "      <td>USW00013874</td>\n",
       "      <td>ATLANTA HARTSFIELD JACKSON INTERNATIONAL AIRPO...</td>\n",
       "      <td>2019-01-05</td>\n",
       "      <td>13.42</td>\n",
       "      <td>0.00</td>\n",
       "      <td>0.0</td>\n",
       "      <td>0.0</td>\n",
       "      <td>49.0</td>\n",
       "      <td>59.0</td>\n",
       "      <td>...</td>\n",
       "      <td>NaN</td>\n",
       "      <td>NaN</td>\n",
       "      <td>NaN</td>\n",
       "      <td>NaN</td>\n",
       "      <td>NaN</td>\n",
       "      <td>NaN</td>\n",
       "      <td>NaN</td>\n",
       "      <td>NaN</td>\n",
       "      <td>NaN</td>\n",
       "      <td>NaN</td>\n",
       "    </tr>\n",
       "  </tbody>\n",
       "</table>\n",
       "<p>5 rows × 33 columns</p>\n",
       "</div>"
      ],
      "text/plain": [
       "   WT18      STATION                                               NAME  \\\n",
       "0  None  USW00013874  ATLANTA HARTSFIELD JACKSON INTERNATIONAL AIRPO...   \n",
       "1  None  USW00013874  ATLANTA HARTSFIELD JACKSON INTERNATIONAL AIRPO...   \n",
       "2  None  USW00013874  ATLANTA HARTSFIELD JACKSON INTERNATIONAL AIRPO...   \n",
       "3  None  USW00013874  ATLANTA HARTSFIELD JACKSON INTERNATIONAL AIRPO...   \n",
       "4  None  USW00013874  ATLANTA HARTSFIELD JACKSON INTERNATIONAL AIRPO...   \n",
       "\n",
       "         DATE   AWND  PRCP  SNOW  SNWD  TAVG  TMAX  ...  PGTM  WT10  WESD  \\\n",
       "0  2019-01-01   4.70  0.14   0.0   0.0  64.0  66.0  ...   NaN   NaN   NaN   \n",
       "1  2019-01-02   4.92  0.57   0.0   0.0  56.0  59.0  ...   NaN   NaN   NaN   \n",
       "2  2019-01-03   5.37  0.15   0.0   0.0  52.0  55.0  ...   NaN   NaN   NaN   \n",
       "3  2019-01-04  12.08  1.44   0.0   0.0  56.0  66.0  ...   NaN   NaN   NaN   \n",
       "4  2019-01-05  13.42  0.00   0.0   0.0  49.0  59.0  ...   NaN   NaN   NaN   \n",
       "\n",
       "   SN32  SX32  PSUN  TSUN  TOBS  WT07  WT11  \n",
       "0   NaN   NaN   NaN   NaN   NaN   NaN   NaN  \n",
       "1   NaN   NaN   NaN   NaN   NaN   NaN   NaN  \n",
       "2   NaN   NaN   NaN   NaN   NaN   NaN   NaN  \n",
       "3   NaN   NaN   NaN   NaN   NaN   NaN   NaN  \n",
       "4   NaN   NaN   NaN   NaN   NaN   NaN   NaN  \n",
       "\n",
       "[5 rows x 33 columns]"
      ]
     },
     "execution_count": 25,
     "metadata": {},
     "output_type": "execute_result"
    }
   ],
   "source": [
    "airport_weather_df.head()"
   ]
  },
  {
   "cell_type": "code",
   "execution_count": 26,
   "metadata": {},
   "outputs": [
    {
     "data": {
      "text/plain": [
       "(46226, 33)"
      ]
     },
     "execution_count": 26,
     "metadata": {},
     "output_type": "execute_result"
    }
   ],
   "source": [
    "airport_weather_df.shape"
   ]
  },
  {
   "cell_type": "markdown",
   "metadata": {},
   "source": [
    "##### Zapisujemy ramkę `airport_weather_df` do pliku `airport_weather.csv` w katalogu `data/raw`."
   ]
  },
  {
   "cell_type": "code",
   "execution_count": 28,
   "metadata": {},
   "outputs": [],
   "source": [
    "# Ścieżka do zapisu pliku CSV\n",
    "file_path = '../data/raw/airport_weather.csv'\n",
    "\n",
    "# Zapisz ramkę danych do pliku CSV\n",
    "airport_weather_df.to_csv(file_path, index=False)"
   ]
  },
  {
   "cell_type": "markdown",
   "metadata": {},
   "source": [
    " # Pobranie `Aircraft`\n",
    "Po zapoznaniu się z dokumentacją endpointu Aircraft, pobieramy dane dot. pogody na poszczególnych samolotów. Wyniki tego kroku zapisujemy do ramki aircraft_df, a następnie do pliku csv `aircraft.csv`."
   ]
  },
  {
   "cell_type": "code",
   "execution_count": 30,
   "metadata": {},
   "outputs": [
    {
     "name": "stdout",
     "output_type": "stream",
     "text": [
      "Status: 200\n"
     ]
    }
   ],
   "source": [
    "# Testowanie poprawności zapytania\n",
    "response = requests.get(f'{api_aircraft_path}', headers={'authorization': api_token})\n",
    "\n",
    "print('Status:', response.status_code)\n",
    "# print('Cała treść odpowiedzi:', response.json()) - ze względu na bardzo długą zawartość odpowiedzi, zostało to zakomentowane\n",
    "# API zwraca w odpowiedzi dane dla wszystkich samolotów na raz"
   ]
  },
  {
   "cell_type": "code",
   "execution_count": 31,
   "metadata": {},
   "outputs": [],
   "source": [
    "# Lista do przechowywania wyników\n",
    "aircrafts_list = []\n",
    "\n",
    "# Wysyłanie zapytania do API dla każdego miesiąca\n",
    "response = requests.get(f'{api_aircraft_path}', headers={'authorization': api_token})\n",
    " \n",
    "# Sprawdzenie, czy odpowiedź jest poprawna (status 200)\n",
    "if response.status_code == 200:\n",
    "    data = response.json()  # Parsowanie odpowiedzi JSON\n",
    "    for record in data:\n",
    "        aircrafts_list.append(record)    # Dodanie danych do listy wyników\n",
    "else:\n",
    "    print(f'Nie można pobrać danych - Status code: {response.status_code}')\n",
    "\n",
    "# Tworzenie nowego DataFrame z wyników\n",
    "aircraft_df = pd.DataFrame.from_records(aircrafts_list)"
   ]
  },
  {
   "cell_type": "code",
   "execution_count": 32,
   "metadata": {
    "scrolled": true
   },
   "outputs": [
    {
     "data": {
      "text/html": [
       "<div>\n",
       "<style scoped>\n",
       "    .dataframe tbody tr th:only-of-type {\n",
       "        vertical-align: middle;\n",
       "    }\n",
       "\n",
       "    .dataframe tbody tr th {\n",
       "        vertical-align: top;\n",
       "    }\n",
       "\n",
       "    .dataframe thead th {\n",
       "        text-align: right;\n",
       "    }\n",
       "</style>\n",
       "<table border=\"1\" class=\"dataframe\">\n",
       "  <thead>\n",
       "    <tr style=\"text-align: right;\">\n",
       "      <th></th>\n",
       "      <th>MANUFACTURE_YEAR</th>\n",
       "      <th>TAIL_NUM</th>\n",
       "      <th>NUMBER_OF_SEATS</th>\n",
       "    </tr>\n",
       "  </thead>\n",
       "  <tbody>\n",
       "    <tr>\n",
       "      <th>0</th>\n",
       "      <td>1944</td>\n",
       "      <td>N54514</td>\n",
       "      <td>0.0</td>\n",
       "    </tr>\n",
       "    <tr>\n",
       "      <th>1</th>\n",
       "      <td>1945</td>\n",
       "      <td>N1651M</td>\n",
       "      <td>0.0</td>\n",
       "    </tr>\n",
       "    <tr>\n",
       "      <th>2</th>\n",
       "      <td>1953</td>\n",
       "      <td>N100CE</td>\n",
       "      <td>0.0</td>\n",
       "    </tr>\n",
       "    <tr>\n",
       "      <th>3</th>\n",
       "      <td>1953</td>\n",
       "      <td>N141FL</td>\n",
       "      <td>0.0</td>\n",
       "    </tr>\n",
       "    <tr>\n",
       "      <th>4</th>\n",
       "      <td>1953</td>\n",
       "      <td>N151FL</td>\n",
       "      <td>0.0</td>\n",
       "    </tr>\n",
       "  </tbody>\n",
       "</table>\n",
       "</div>"
      ],
      "text/plain": [
       "   MANUFACTURE_YEAR TAIL_NUM  NUMBER_OF_SEATS\n",
       "0              1944   N54514              0.0\n",
       "1              1945   N1651M              0.0\n",
       "2              1953   N100CE              0.0\n",
       "3              1953   N141FL              0.0\n",
       "4              1953   N151FL              0.0"
      ]
     },
     "execution_count": 32,
     "metadata": {},
     "output_type": "execute_result"
    }
   ],
   "source": [
    "aircraft_df.head()"
   ]
  },
  {
   "cell_type": "code",
   "execution_count": 33,
   "metadata": {},
   "outputs": [
    {
     "data": {
      "text/plain": [
       "(7383, 3)"
      ]
     },
     "execution_count": 33,
     "metadata": {},
     "output_type": "execute_result"
    }
   ],
   "source": [
    "aircraft_df.shape"
   ]
  },
  {
   "cell_type": "markdown",
   "metadata": {},
   "source": [
    "##### Zapisujemy ramkę `aircraft_df` do pliku `aircraft.csv` w katalogu `data/raw`."
   ]
  },
  {
   "cell_type": "code",
   "execution_count": 35,
   "metadata": {},
   "outputs": [],
   "source": [
    "# Ścieżka do zapisu pliku CSV\n",
    "file_path = '../data/raw/aircraft.csv'\n",
    "\n",
    "# Zapisujemy ramkę danych do pliku CSV\n",
    "aircraft_df.to_csv(file_path, index=False)"
   ]
  },
  {
   "cell_type": "markdown",
   "metadata": {},
   "source": [
    " # Pobranie `Flight`\n",
    " Zapoznaj się z dokumentacją endpointu `flights`, następnie pobierz dane dotyczące ruchu lotniczego. Wyniki zapisz do ramki `flight_df`, a później do pliku `flight.csv`.\n",
    "\n",
    " Wskazówki:\n",
    " - Zwróć szczególną uwagę na konstrukcję endpointa,\n",
    " - Ze względu na wolumen danych, które tutaj się pobiorą, odradzamy zapisywanie danych bezpośrednio do ramki. Rekomendujemy podejście podobne do tego, z warsztatu na kursie `Python - analiza danych` - `Dzień 10 - Warsztat > Warsztat > Scrapowanie danych`,\n",
    " - Data początkowa danych to `2019-01-01`, zaś końcowa to `2020-03-31`, czyli 456 dni,\n",
    " - Ze względu na czas, jaki ten krok będzie się wykonywał, warto dodać w pętli instrukcję (lub kilka) `print`, aby monitorować przebieg wykonywania tego kroku,\n",
    " - W przypadku, gdy nie ma dostępnych danych dla danego lotniska, API zwraca kod [204](https://developer.mozilla.org/en-US/docs/Web/HTTP/Status/204), w ten sposób możesz pominąć lotniska, dla których dane nie są dostępne,\n",
    " - Pobranie całości danych zajmuje dłuższą chwilę, zanim włączysz pętle dla wszystkich danych, sprawdź pobieranie danych dla jednego, dwóch lotnisk aby uniknąć frustracji."
   ]
  },
  {
   "cell_type": "code",
   "execution_count": 37,
   "metadata": {},
   "outputs": [
    {
     "name": "stdout",
     "output_type": "stream",
     "text": [
      "Status: 204\n",
      "No airport\n"
     ]
    }
   ],
   "source": [
    "# Testowanie poprawności zapytania na podstawie jednego miesiąca\n",
    "response = requests.get(f'{api_flight_path}airportId=14082&date=2020-03', headers={'authorization': api_token})\n",
    "\n",
    "print('Status:', response.status_code)\n",
    "if response.status_code == 204:\n",
    "    print(\"No airport\")\n",
    "else:\n",
    "    print('Cała treść odpowiedzi:', response.json())"
   ]
  },
  {
   "cell_type": "code",
   "execution_count": 38,
   "metadata": {},
   "outputs": [
    {
     "data": {
      "text/plain": [
       "Index(['2019-01', '2019-02', '2019-03', '2019-04', '2019-05', '2019-06',\n",
       "       '2019-07', '2019-08', '2019-09', '2019-10', '2019-11', '2019-12',\n",
       "       '2020-01', '2020-02', '2020-03'],\n",
       "      dtype='object')"
      ]
     },
     "execution_count": 38,
     "metadata": {},
     "output_type": "execute_result"
    }
   ],
   "source": [
    "# Definiujemy zakres dat do pobrania\n",
    "flight_start_date = '2019-01'\n",
    "flight_end_date = '2020-03'\n",
    "\n",
    "# Tworzymy listę pierwszych dni miesiąca\n",
    "flight_months = pd.date_range(start=start_date, end=end_date, freq='MS')\n",
    "flight_months = flight_months.strftime('%Y-%m')\n",
    "flight_months"
   ]
  },
  {
   "cell_type": "code",
   "execution_count": 39,
   "metadata": {},
   "outputs": [
    {
     "name": "stdout",
     "output_type": "stream",
     "text": [
      "100\n",
      "200\n",
      "300\n",
      "400\n",
      "500\n",
      "600\n",
      "700\n",
      "800\n",
      "900\n",
      "1000\n",
      "Reached 1000 requests, waiting for 60 seconds...\n",
      "100\n",
      "200\n",
      "300\n",
      "400\n",
      "500\n",
      "600\n",
      "700\n",
      "800\n",
      "900\n",
      "1000\n",
      "Reached 1000 requests, waiting for 60 seconds...\n",
      "100\n",
      "200\n",
      "300\n",
      "400\n",
      "500\n",
      "600\n",
      "700\n",
      "800\n",
      "900\n",
      "1000\n",
      "Reached 1000 requests, waiting for 60 seconds...\n",
      "100\n",
      "200\n",
      "300\n",
      "400\n",
      "500\n",
      "600\n",
      "700\n",
      "800\n",
      "900\n",
      "1000\n",
      "Reached 1000 requests, waiting for 60 seconds...\n",
      "100\n",
      "200\n",
      "300\n",
      "400\n",
      "500\n",
      "600\n",
      "700\n",
      "800\n",
      "900\n",
      "1000\n",
      "Reached 1000 requests, waiting for 60 seconds...\n",
      "100\n",
      "200\n",
      "300\n",
      "400\n"
     ]
    }
   ],
   "source": [
    "# Lista do przechowywania wyników\n",
    "flight_list = []\n",
    "\n",
    "# Licznik zapytań\n",
    "request_count = 0\n",
    "max_requests = 1000  # Maksymalna liczba zapytań na minutę\n",
    "\n",
    "# Iteracja przez każdy 'origin_airport_id' w DataFrame 'airports'\n",
    "for airport_id in airports['origin_airport_id']:\n",
    "    # Iteracja zapytań dla każdego miesiąca\n",
    "    for date in flight_months:\n",
    "        # Wysyłanie zapytania do API dla każdego miesiąca dla każdego lotniska\n",
    "        response = requests.get(f'{api_flight_path}airportId={airport_id}&date={date}', headers={'authorization': api_token})\n",
    "        \n",
    "        # Zwiększenie licznika zapytań\n",
    "        request_count += 1\n",
    "        if request_count % 100 == 0:\n",
    "            print(request_count)\n",
    "        \n",
    "        # Sprawdzenie, czy odpowiedź jest poprawna (status 200)\n",
    "        if response.status_code == 200:\n",
    "            data = response.json()  # Parsowanie odpowiedzi JSON\n",
    "            for record in data:\n",
    "                flight_list.append(record)    # Dodanie danych do listy wyników\n",
    "        elif response.status_code == 204:\n",
    "            pass\n",
    "        else:\n",
    "            print(f'Nie można pobrać danych dla lotniska {airport_id} na miesiąc {date} - Status code: {response.status_code}')\n",
    "    \n",
    "        # Sprawdzenie, czy osiągnięto limit zapytań\n",
    "        if request_count == max_requests:\n",
    "            print(\"Reached 1000 requests, waiting for 60 seconds...\")\n",
    "            time.sleep(60)  # Pauza na 60 sekund\n",
    "            request_count = 0  # Zresetowanie licznika zapytań\n",
    "\n",
    "# Tworzenie nowego DataFrame z wyników\n",
    "flight_df = pd.DataFrame.from_records(flight_list)"
   ]
  },
  {
   "cell_type": "code",
   "execution_count": 40,
   "metadata": {},
   "outputs": [
    {
     "data": {
      "text/html": [
       "<div>\n",
       "<style scoped>\n",
       "    .dataframe tbody tr th:only-of-type {\n",
       "        vertical-align: middle;\n",
       "    }\n",
       "\n",
       "    .dataframe tbody tr th {\n",
       "        vertical-align: top;\n",
       "    }\n",
       "\n",
       "    .dataframe thead th {\n",
       "        text-align: right;\n",
       "    }\n",
       "</style>\n",
       "<table border=\"1\" class=\"dataframe\">\n",
       "  <thead>\n",
       "    <tr style=\"text-align: right;\">\n",
       "      <th></th>\n",
       "      <th>MONTH</th>\n",
       "      <th>DAY_OF_MONTH</th>\n",
       "      <th>DAY_OF_WEEK</th>\n",
       "      <th>OP_UNIQUE_CARRIER</th>\n",
       "      <th>TAIL_NUM</th>\n",
       "      <th>OP_CARRIER_FL_NUM</th>\n",
       "      <th>ORIGIN_AIRPORT_ID</th>\n",
       "      <th>DEST_AIRPORT_ID</th>\n",
       "      <th>CRS_DEP_TIME</th>\n",
       "      <th>DEP_TIME</th>\n",
       "      <th>...</th>\n",
       "      <th>CRS_ELAPSED_TIME</th>\n",
       "      <th>ACTUAL_ELAPSED_TIME</th>\n",
       "      <th>DISTANCE</th>\n",
       "      <th>DISTANCE_GROUP</th>\n",
       "      <th>YEAR</th>\n",
       "      <th>CARRIER_DELAY</th>\n",
       "      <th>WEATHER_DELAY</th>\n",
       "      <th>NAS_DELAY</th>\n",
       "      <th>SECURITY_DELAY</th>\n",
       "      <th>LATE_AIRCRAFT_DELAY</th>\n",
       "    </tr>\n",
       "  </thead>\n",
       "  <tbody>\n",
       "    <tr>\n",
       "      <th>0</th>\n",
       "      <td>1</td>\n",
       "      <td>20</td>\n",
       "      <td>7</td>\n",
       "      <td>WN</td>\n",
       "      <td>N204WN</td>\n",
       "      <td>682</td>\n",
       "      <td>10397</td>\n",
       "      <td>11292</td>\n",
       "      <td>605</td>\n",
       "      <td>602.0</td>\n",
       "      <td>...</td>\n",
       "      <td>205</td>\n",
       "      <td>204.0</td>\n",
       "      <td>1199</td>\n",
       "      <td>5</td>\n",
       "      <td>2019</td>\n",
       "      <td>NaN</td>\n",
       "      <td>NaN</td>\n",
       "      <td>NaN</td>\n",
       "      <td>NaN</td>\n",
       "      <td>NaN</td>\n",
       "    </tr>\n",
       "    <tr>\n",
       "      <th>1</th>\n",
       "      <td>1</td>\n",
       "      <td>20</td>\n",
       "      <td>7</td>\n",
       "      <td>WN</td>\n",
       "      <td>N8682B</td>\n",
       "      <td>2622</td>\n",
       "      <td>10397</td>\n",
       "      <td>11292</td>\n",
       "      <td>2120</td>\n",
       "      <td>2114.0</td>\n",
       "      <td>...</td>\n",
       "      <td>210</td>\n",
       "      <td>205.0</td>\n",
       "      <td>1199</td>\n",
       "      <td>5</td>\n",
       "      <td>2019</td>\n",
       "      <td>NaN</td>\n",
       "      <td>NaN</td>\n",
       "      <td>NaN</td>\n",
       "      <td>NaN</td>\n",
       "      <td>NaN</td>\n",
       "    </tr>\n",
       "    <tr>\n",
       "      <th>2</th>\n",
       "      <td>1</td>\n",
       "      <td>20</td>\n",
       "      <td>7</td>\n",
       "      <td>WN</td>\n",
       "      <td>N717SA</td>\n",
       "      <td>2939</td>\n",
       "      <td>10397</td>\n",
       "      <td>11292</td>\n",
       "      <td>1800</td>\n",
       "      <td>1807.0</td>\n",
       "      <td>...</td>\n",
       "      <td>210</td>\n",
       "      <td>220.0</td>\n",
       "      <td>1199</td>\n",
       "      <td>5</td>\n",
       "      <td>2019</td>\n",
       "      <td>4.0</td>\n",
       "      <td>0.0</td>\n",
       "      <td>10.0</td>\n",
       "      <td>0.0</td>\n",
       "      <td>3.0</td>\n",
       "    </tr>\n",
       "    <tr>\n",
       "      <th>3</th>\n",
       "      <td>1</td>\n",
       "      <td>20</td>\n",
       "      <td>7</td>\n",
       "      <td>WN</td>\n",
       "      <td>N709SW</td>\n",
       "      <td>3848</td>\n",
       "      <td>10397</td>\n",
       "      <td>11292</td>\n",
       "      <td>1355</td>\n",
       "      <td>1354.0</td>\n",
       "      <td>...</td>\n",
       "      <td>205</td>\n",
       "      <td>204.0</td>\n",
       "      <td>1199</td>\n",
       "      <td>5</td>\n",
       "      <td>2019</td>\n",
       "      <td>NaN</td>\n",
       "      <td>NaN</td>\n",
       "      <td>NaN</td>\n",
       "      <td>NaN</td>\n",
       "      <td>NaN</td>\n",
       "    </tr>\n",
       "    <tr>\n",
       "      <th>4</th>\n",
       "      <td>1</td>\n",
       "      <td>20</td>\n",
       "      <td>7</td>\n",
       "      <td>WN</td>\n",
       "      <td>N7864B</td>\n",
       "      <td>1352</td>\n",
       "      <td>10397</td>\n",
       "      <td>11697</td>\n",
       "      <td>1125</td>\n",
       "      <td>1125.0</td>\n",
       "      <td>...</td>\n",
       "      <td>120</td>\n",
       "      <td>124.0</td>\n",
       "      <td>581</td>\n",
       "      <td>3</td>\n",
       "      <td>2019</td>\n",
       "      <td>NaN</td>\n",
       "      <td>NaN</td>\n",
       "      <td>NaN</td>\n",
       "      <td>NaN</td>\n",
       "      <td>NaN</td>\n",
       "    </tr>\n",
       "  </tbody>\n",
       "</table>\n",
       "<p>5 rows × 27 columns</p>\n",
       "</div>"
      ],
      "text/plain": [
       "   MONTH  DAY_OF_MONTH  DAY_OF_WEEK OP_UNIQUE_CARRIER TAIL_NUM  \\\n",
       "0      1            20            7                WN   N204WN   \n",
       "1      1            20            7                WN   N8682B   \n",
       "2      1            20            7                WN   N717SA   \n",
       "3      1            20            7                WN   N709SW   \n",
       "4      1            20            7                WN   N7864B   \n",
       "\n",
       "   OP_CARRIER_FL_NUM  ORIGIN_AIRPORT_ID  DEST_AIRPORT_ID  CRS_DEP_TIME  \\\n",
       "0                682              10397            11292           605   \n",
       "1               2622              10397            11292          2120   \n",
       "2               2939              10397            11292          1800   \n",
       "3               3848              10397            11292          1355   \n",
       "4               1352              10397            11697          1125   \n",
       "\n",
       "   DEP_TIME  ...  CRS_ELAPSED_TIME ACTUAL_ELAPSED_TIME  DISTANCE  \\\n",
       "0     602.0  ...               205               204.0      1199   \n",
       "1    2114.0  ...               210               205.0      1199   \n",
       "2    1807.0  ...               210               220.0      1199   \n",
       "3    1354.0  ...               205               204.0      1199   \n",
       "4    1125.0  ...               120               124.0       581   \n",
       "\n",
       "   DISTANCE_GROUP  YEAR CARRIER_DELAY  WEATHER_DELAY  NAS_DELAY  \\\n",
       "0               5  2019           NaN            NaN        NaN   \n",
       "1               5  2019           NaN            NaN        NaN   \n",
       "2               5  2019           4.0            0.0       10.0   \n",
       "3               5  2019           NaN            NaN        NaN   \n",
       "4               3  2019           NaN            NaN        NaN   \n",
       "\n",
       "   SECURITY_DELAY  LATE_AIRCRAFT_DELAY  \n",
       "0             NaN                  NaN  \n",
       "1             NaN                  NaN  \n",
       "2             0.0                  3.0  \n",
       "3             NaN                  NaN  \n",
       "4             NaN                  NaN  \n",
       "\n",
       "[5 rows x 27 columns]"
      ]
     },
     "execution_count": 40,
     "metadata": {},
     "output_type": "execute_result"
    }
   ],
   "source": [
    "flight_df.head()"
   ]
  },
  {
   "cell_type": "code",
   "execution_count": 41,
   "metadata": {},
   "outputs": [
    {
     "data": {
      "text/plain": [
       "(1386120, 27)"
      ]
     },
     "execution_count": 41,
     "metadata": {},
     "output_type": "execute_result"
    }
   ],
   "source": [
    "flight_df.shape"
   ]
  },
  {
   "cell_type": "markdown",
   "metadata": {},
   "source": [
    "##### Zapisujemy ramkę `flight_df` do pliku `flight.csv` w katalogu `data/raw`."
   ]
  },
  {
   "cell_type": "code",
   "execution_count": 45,
   "metadata": {},
   "outputs": [],
   "source": [
    "# Ścieżka do zapisu pliku CSV\n",
    "file_path = '../data/raw/flight.csv'\n",
    "\n",
    "# Zapisujemy ramkę danych do pliku CSV\n",
    "flight_df.to_csv(file_path, index=False)"
   ]
  },
  {
   "cell_type": "markdown",
   "metadata": {},
   "source": [
    " # Podsumowanie\n",
    "W tym notatniku wykonaliśmy podstawowy krok w analizie danych - pozyskaliśmy je. Dane są gotowe do dalszej pracy, czyli możemy załadować je na bazę danych, a następnie zapoznać się z tym, jakie informacje ze sobą niosą."
   ]
  },
  {
   "cell_type": "code",
   "execution_count": 47,
   "metadata": {},
   "outputs": [
    {
     "name": "stdout",
     "output_type": "stream",
     "text": [
      "Wszystko wygląda OK :) Przechodzimy do kolejnego kroku.\n"
     ]
    }
   ],
   "source": [
    "msg = \"Wszystko wygląda OK :) Przechodzimy do kolejnego kroku.\"\n",
    "print(msg)"
   ]
  }
 ],
 "metadata": {
  "kernelspec": {
   "display_name": "venv_portfolio",
   "language": "python",
   "name": "venv_portfolio"
  },
  "language_info": {
   "codemirror_mode": {
    "name": "ipython",
    "version": 3
   },
   "file_extension": ".py",
   "mimetype": "text/x-python",
   "name": "python",
   "nbconvert_exporter": "python",
   "pygments_lexer": "ipython3",
   "version": "3.12.4"
  },
  "vscode": {
   "interpreter": {
    "hash": "38d75d0df746d7f75dd34c5d1915af59cb55786647bd68b8d9064425d7680b12"
   }
  }
 },
 "nbformat": 4,
 "nbformat_minor": 4
}
