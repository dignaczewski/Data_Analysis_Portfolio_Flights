{
 "cells": [
  {
   "cell_type": "markdown",
   "metadata": {},
   "source": [
    " # Opis notatnika\n",
    "Głównym celem w tym notatniku jest odpowiednie dostosowanie struktury danych z plików źródłowych do formatu zgodnego z `Postgres`, a następnie wgranie ich na nasz serwer. Dzięki temu w późniejszych krokach możemy niezależnie użyć danych do analizy czy raportowania."
   ]
  },
  {
   "cell_type": "markdown",
   "metadata": {},
   "source": [
    "## Połączenie z bazą danych"
   ]
  },
  {
   "cell_type": "markdown",
   "metadata": {},
   "source": [
    "##### Importujemy potrzebne biblioteki oraz plik z ukrytymi danymi do logowania"
   ]
  },
  {
   "cell_type": "code",
   "execution_count": 2,
   "metadata": {},
   "outputs": [],
   "source": [
    "import psycopg2\n",
    "from dotenv import load_dotenv\n",
    "import os\n",
    "from sqlalchemy import create_engine\n",
    "import pandas as pd"
   ]
  },
  {
   "cell_type": "code",
   "execution_count": 4,
   "metadata": {
    "scrolled": true
   },
   "outputs": [
    {
     "data": {
      "text/plain": [
       "True"
      ]
     },
     "execution_count": 4,
     "metadata": {},
     "output_type": "execute_result"
    }
   ],
   "source": [
    "# Ładujemy zmienne środowiskowe z pliku .env\n",
    "load_dotenv('DB_pass.env')"
   ]
  },
  {
   "cell_type": "markdown",
   "metadata": {},
   "source": [
    "##### Podłączamy się do bazy danych"
   ]
  },
  {
   "cell_type": "code",
   "execution_count": 6,
   "metadata": {},
   "outputs": [],
   "source": [
    "# Tworzymy url połączenia\n",
    "url = f\"postgresql://{os.getenv('DB_USER')}:{os.getenv('DB_PASSWORD')}@{os.getenv('DB_HOST')}:{os.getenv('DB_PORT')}/{os.getenv('N_DB_NAME')}\"\n",
    "\n",
    "# Tworzymy engine dla sqlalchemy\n",
    "engine = create_engine(url)"
   ]
  },
  {
   "cell_type": "markdown",
   "metadata": {},
   "source": [
    " # Załadowanie i wczytanie ramek do obszaru roboczego"
   ]
  },
  {
   "cell_type": "markdown",
   "metadata": {},
   "source": [
    "##### Tworzymy funkcję `load_raw_data`, która przyjmuje jeden parametr `file_name`, czyli nazwę pliku do zaczytania. Jej zadaniem jest wczytanie surowego pliku, zmodyfikowanie nazw kolumn z `NAZWA_KOLUMNY` na `nazwa_kolumny` oraz zwrócenie tak zmodyfikowanej ramki danych."
   ]
  },
  {
   "cell_type": "code",
   "execution_count": 21,
   "metadata": {},
   "outputs": [],
   "source": [
    "def load_raw_data(file_name):\n",
    "    df = pd.read_csv(file_name)\n",
    "    df.columns = [col.lower() for col in df.columns]\n",
    "    \n",
    "    return df"
   ]
  },
  {
   "cell_type": "markdown",
   "metadata": {},
   "source": [
    "##### Zaczytujemy poszczególne pliki do ramek i sprawdzamy typy danych, czy pokrywają się z bazą danych w postgresql"
   ]
  },
  {
   "cell_type": "code",
   "execution_count": 29,
   "metadata": {
    "scrolled": true
   },
   "outputs": [
    {
     "data": {
      "text/html": [
       "<div>\n",
       "<style scoped>\n",
       "    .dataframe tbody tr th:only-of-type {\n",
       "        vertical-align: middle;\n",
       "    }\n",
       "\n",
       "    .dataframe tbody tr th {\n",
       "        vertical-align: top;\n",
       "    }\n",
       "\n",
       "    .dataframe thead th {\n",
       "        text-align: right;\n",
       "    }\n",
       "</style>\n",
       "<table border=\"1\" class=\"dataframe\">\n",
       "  <thead>\n",
       "    <tr style=\"text-align: right;\">\n",
       "      <th></th>\n",
       "      <th>manufacture_year</th>\n",
       "      <th>tail_num</th>\n",
       "      <th>number_of_seats</th>\n",
       "    </tr>\n",
       "  </thead>\n",
       "  <tbody>\n",
       "    <tr>\n",
       "      <th>0</th>\n",
       "      <td>1944</td>\n",
       "      <td>N54514</td>\n",
       "      <td>0.0</td>\n",
       "    </tr>\n",
       "    <tr>\n",
       "      <th>1</th>\n",
       "      <td>1945</td>\n",
       "      <td>N1651M</td>\n",
       "      <td>0.0</td>\n",
       "    </tr>\n",
       "    <tr>\n",
       "      <th>2</th>\n",
       "      <td>1953</td>\n",
       "      <td>N100CE</td>\n",
       "      <td>0.0</td>\n",
       "    </tr>\n",
       "    <tr>\n",
       "      <th>3</th>\n",
       "      <td>1953</td>\n",
       "      <td>N141FL</td>\n",
       "      <td>0.0</td>\n",
       "    </tr>\n",
       "    <tr>\n",
       "      <th>4</th>\n",
       "      <td>1953</td>\n",
       "      <td>N151FL</td>\n",
       "      <td>0.0</td>\n",
       "    </tr>\n",
       "  </tbody>\n",
       "</table>\n",
       "</div>"
      ],
      "text/plain": [
       "   manufacture_year tail_num  number_of_seats\n",
       "0              1944   N54514              0.0\n",
       "1              1945   N1651M              0.0\n",
       "2              1953   N100CE              0.0\n",
       "3              1953   N141FL              0.0\n",
       "4              1953   N151FL              0.0"
      ]
     },
     "execution_count": 29,
     "metadata": {},
     "output_type": "execute_result"
    }
   ],
   "source": [
    "aircraft_df = load_raw_data('../data/raw/aircraft.csv')\n",
    "aircraft_df.head()"
   ]
  },
  {
   "cell_type": "code",
   "execution_count": 42,
   "metadata": {},
   "outputs": [
    {
     "data": {
      "text/plain": [
       "manufacture_year      int64\n",
       "tail_num             object\n",
       "number_of_seats     float64\n",
       "dtype: object"
      ]
     },
     "execution_count": 42,
     "metadata": {},
     "output_type": "execute_result"
    }
   ],
   "source": [
    "aircraft_df.dtypes"
   ]
  },
  {
   "cell_type": "code",
   "execution_count": 31,
   "metadata": {
    "scrolled": true
   },
   "outputs": [
    {
     "data": {
      "text/html": [
       "<div>\n",
       "<style scoped>\n",
       "    .dataframe tbody tr th:only-of-type {\n",
       "        vertical-align: middle;\n",
       "    }\n",
       "\n",
       "    .dataframe tbody tr th {\n",
       "        vertical-align: top;\n",
       "    }\n",
       "\n",
       "    .dataframe thead th {\n",
       "        text-align: right;\n",
       "    }\n",
       "</style>\n",
       "<table border=\"1\" class=\"dataframe\">\n",
       "  <thead>\n",
       "    <tr style=\"text-align: right;\">\n",
       "      <th></th>\n",
       "      <th>wt18</th>\n",
       "      <th>station</th>\n",
       "      <th>name</th>\n",
       "      <th>date</th>\n",
       "      <th>awnd</th>\n",
       "      <th>prcp</th>\n",
       "      <th>snow</th>\n",
       "      <th>snwd</th>\n",
       "      <th>tavg</th>\n",
       "      <th>tmax</th>\n",
       "      <th>...</th>\n",
       "      <th>pgtm</th>\n",
       "      <th>wt10</th>\n",
       "      <th>wesd</th>\n",
       "      <th>sn32</th>\n",
       "      <th>sx32</th>\n",
       "      <th>psun</th>\n",
       "      <th>tsun</th>\n",
       "      <th>tobs</th>\n",
       "      <th>wt07</th>\n",
       "      <th>wt11</th>\n",
       "    </tr>\n",
       "  </thead>\n",
       "  <tbody>\n",
       "    <tr>\n",
       "      <th>0</th>\n",
       "      <td>NaN</td>\n",
       "      <td>USW00013874</td>\n",
       "      <td>ATLANTA HARTSFIELD JACKSON INTERNATIONAL AIRPO...</td>\n",
       "      <td>2019-01-01</td>\n",
       "      <td>4.70</td>\n",
       "      <td>0.14</td>\n",
       "      <td>0.0</td>\n",
       "      <td>0.0</td>\n",
       "      <td>64.0</td>\n",
       "      <td>66.0</td>\n",
       "      <td>...</td>\n",
       "      <td>NaN</td>\n",
       "      <td>NaN</td>\n",
       "      <td>NaN</td>\n",
       "      <td>NaN</td>\n",
       "      <td>NaN</td>\n",
       "      <td>NaN</td>\n",
       "      <td>NaN</td>\n",
       "      <td>NaN</td>\n",
       "      <td>NaN</td>\n",
       "      <td>NaN</td>\n",
       "    </tr>\n",
       "    <tr>\n",
       "      <th>1</th>\n",
       "      <td>NaN</td>\n",
       "      <td>USW00013874</td>\n",
       "      <td>ATLANTA HARTSFIELD JACKSON INTERNATIONAL AIRPO...</td>\n",
       "      <td>2019-01-02</td>\n",
       "      <td>4.92</td>\n",
       "      <td>0.57</td>\n",
       "      <td>0.0</td>\n",
       "      <td>0.0</td>\n",
       "      <td>56.0</td>\n",
       "      <td>59.0</td>\n",
       "      <td>...</td>\n",
       "      <td>NaN</td>\n",
       "      <td>NaN</td>\n",
       "      <td>NaN</td>\n",
       "      <td>NaN</td>\n",
       "      <td>NaN</td>\n",
       "      <td>NaN</td>\n",
       "      <td>NaN</td>\n",
       "      <td>NaN</td>\n",
       "      <td>NaN</td>\n",
       "      <td>NaN</td>\n",
       "    </tr>\n",
       "    <tr>\n",
       "      <th>2</th>\n",
       "      <td>NaN</td>\n",
       "      <td>USW00013874</td>\n",
       "      <td>ATLANTA HARTSFIELD JACKSON INTERNATIONAL AIRPO...</td>\n",
       "      <td>2019-01-03</td>\n",
       "      <td>5.37</td>\n",
       "      <td>0.15</td>\n",
       "      <td>0.0</td>\n",
       "      <td>0.0</td>\n",
       "      <td>52.0</td>\n",
       "      <td>55.0</td>\n",
       "      <td>...</td>\n",
       "      <td>NaN</td>\n",
       "      <td>NaN</td>\n",
       "      <td>NaN</td>\n",
       "      <td>NaN</td>\n",
       "      <td>NaN</td>\n",
       "      <td>NaN</td>\n",
       "      <td>NaN</td>\n",
       "      <td>NaN</td>\n",
       "      <td>NaN</td>\n",
       "      <td>NaN</td>\n",
       "    </tr>\n",
       "    <tr>\n",
       "      <th>3</th>\n",
       "      <td>NaN</td>\n",
       "      <td>USW00013874</td>\n",
       "      <td>ATLANTA HARTSFIELD JACKSON INTERNATIONAL AIRPO...</td>\n",
       "      <td>2019-01-04</td>\n",
       "      <td>12.08</td>\n",
       "      <td>1.44</td>\n",
       "      <td>0.0</td>\n",
       "      <td>0.0</td>\n",
       "      <td>56.0</td>\n",
       "      <td>66.0</td>\n",
       "      <td>...</td>\n",
       "      <td>NaN</td>\n",
       "      <td>NaN</td>\n",
       "      <td>NaN</td>\n",
       "      <td>NaN</td>\n",
       "      <td>NaN</td>\n",
       "      <td>NaN</td>\n",
       "      <td>NaN</td>\n",
       "      <td>NaN</td>\n",
       "      <td>NaN</td>\n",
       "      <td>NaN</td>\n",
       "    </tr>\n",
       "    <tr>\n",
       "      <th>4</th>\n",
       "      <td>NaN</td>\n",
       "      <td>USW00013874</td>\n",
       "      <td>ATLANTA HARTSFIELD JACKSON INTERNATIONAL AIRPO...</td>\n",
       "      <td>2019-01-05</td>\n",
       "      <td>13.42</td>\n",
       "      <td>0.00</td>\n",
       "      <td>0.0</td>\n",
       "      <td>0.0</td>\n",
       "      <td>49.0</td>\n",
       "      <td>59.0</td>\n",
       "      <td>...</td>\n",
       "      <td>NaN</td>\n",
       "      <td>NaN</td>\n",
       "      <td>NaN</td>\n",
       "      <td>NaN</td>\n",
       "      <td>NaN</td>\n",
       "      <td>NaN</td>\n",
       "      <td>NaN</td>\n",
       "      <td>NaN</td>\n",
       "      <td>NaN</td>\n",
       "      <td>NaN</td>\n",
       "    </tr>\n",
       "  </tbody>\n",
       "</table>\n",
       "<p>5 rows × 33 columns</p>\n",
       "</div>"
      ],
      "text/plain": [
       "   wt18      station                                               name  \\\n",
       "0   NaN  USW00013874  ATLANTA HARTSFIELD JACKSON INTERNATIONAL AIRPO...   \n",
       "1   NaN  USW00013874  ATLANTA HARTSFIELD JACKSON INTERNATIONAL AIRPO...   \n",
       "2   NaN  USW00013874  ATLANTA HARTSFIELD JACKSON INTERNATIONAL AIRPO...   \n",
       "3   NaN  USW00013874  ATLANTA HARTSFIELD JACKSON INTERNATIONAL AIRPO...   \n",
       "4   NaN  USW00013874  ATLANTA HARTSFIELD JACKSON INTERNATIONAL AIRPO...   \n",
       "\n",
       "         date   awnd  prcp  snow  snwd  tavg  tmax  ...  pgtm  wt10  wesd  \\\n",
       "0  2019-01-01   4.70  0.14   0.0   0.0  64.0  66.0  ...   NaN   NaN   NaN   \n",
       "1  2019-01-02   4.92  0.57   0.0   0.0  56.0  59.0  ...   NaN   NaN   NaN   \n",
       "2  2019-01-03   5.37  0.15   0.0   0.0  52.0  55.0  ...   NaN   NaN   NaN   \n",
       "3  2019-01-04  12.08  1.44   0.0   0.0  56.0  66.0  ...   NaN   NaN   NaN   \n",
       "4  2019-01-05  13.42  0.00   0.0   0.0  49.0  59.0  ...   NaN   NaN   NaN   \n",
       "\n",
       "   sn32  sx32  psun  tsun  tobs  wt07  wt11  \n",
       "0   NaN   NaN   NaN   NaN   NaN   NaN   NaN  \n",
       "1   NaN   NaN   NaN   NaN   NaN   NaN   NaN  \n",
       "2   NaN   NaN   NaN   NaN   NaN   NaN   NaN  \n",
       "3   NaN   NaN   NaN   NaN   NaN   NaN   NaN  \n",
       "4   NaN   NaN   NaN   NaN   NaN   NaN   NaN  \n",
       "\n",
       "[5 rows x 33 columns]"
      ]
     },
     "execution_count": 31,
     "metadata": {},
     "output_type": "execute_result"
    }
   ],
   "source": [
    "airport_weather_df = load_raw_data('../data/raw/airport_weather.csv')\n",
    "airport_weather_df.head()"
   ]
  },
  {
   "cell_type": "code",
   "execution_count": 44,
   "metadata": {},
   "outputs": [
    {
     "data": {
      "text/plain": [
       "wt18       float64\n",
       "station     object\n",
       "name        object\n",
       "date        object\n",
       "awnd       float64\n",
       "prcp       float64\n",
       "snow       float64\n",
       "snwd       float64\n",
       "tavg       float64\n",
       "tmax       float64\n",
       "tmin       float64\n",
       "wdf2       float64\n",
       "wdf5       float64\n",
       "wsf2       float64\n",
       "wsf5       float64\n",
       "wt01       float64\n",
       "wt08       float64\n",
       "wt02       float64\n",
       "wt03       float64\n",
       "wt04       float64\n",
       "wt09       float64\n",
       "wt06       float64\n",
       "wt05       float64\n",
       "pgtm       float64\n",
       "wt10       float64\n",
       "wesd       float64\n",
       "sn32       float64\n",
       "sx32       float64\n",
       "psun       float64\n",
       "tsun       float64\n",
       "tobs       float64\n",
       "wt07       float64\n",
       "wt11       float64\n",
       "dtype: object"
      ]
     },
     "execution_count": 44,
     "metadata": {},
     "output_type": "execute_result"
    }
   ],
   "source": [
    "airport_weather_df.dtypes"
   ]
  },
  {
   "cell_type": "code",
   "execution_count": 33,
   "metadata": {
    "scrolled": true
   },
   "outputs": [
    {
     "data": {
      "text/html": [
       "<div>\n",
       "<style scoped>\n",
       "    .dataframe tbody tr th:only-of-type {\n",
       "        vertical-align: middle;\n",
       "    }\n",
       "\n",
       "    .dataframe tbody tr th {\n",
       "        vertical-align: top;\n",
       "    }\n",
       "\n",
       "    .dataframe thead th {\n",
       "        text-align: right;\n",
       "    }\n",
       "</style>\n",
       "<table border=\"1\" class=\"dataframe\">\n",
       "  <thead>\n",
       "    <tr style=\"text-align: right;\">\n",
       "      <th></th>\n",
       "      <th>month</th>\n",
       "      <th>day_of_month</th>\n",
       "      <th>day_of_week</th>\n",
       "      <th>op_unique_carrier</th>\n",
       "      <th>tail_num</th>\n",
       "      <th>op_carrier_fl_num</th>\n",
       "      <th>origin_airport_id</th>\n",
       "      <th>dest_airport_id</th>\n",
       "      <th>crs_dep_time</th>\n",
       "      <th>dep_time</th>\n",
       "      <th>...</th>\n",
       "      <th>crs_elapsed_time</th>\n",
       "      <th>actual_elapsed_time</th>\n",
       "      <th>distance</th>\n",
       "      <th>distance_group</th>\n",
       "      <th>year</th>\n",
       "      <th>carrier_delay</th>\n",
       "      <th>weather_delay</th>\n",
       "      <th>nas_delay</th>\n",
       "      <th>security_delay</th>\n",
       "      <th>late_aircraft_delay</th>\n",
       "    </tr>\n",
       "  </thead>\n",
       "  <tbody>\n",
       "    <tr>\n",
       "      <th>0</th>\n",
       "      <td>1</td>\n",
       "      <td>20</td>\n",
       "      <td>7</td>\n",
       "      <td>WN</td>\n",
       "      <td>N204WN</td>\n",
       "      <td>682</td>\n",
       "      <td>10397</td>\n",
       "      <td>11292</td>\n",
       "      <td>605</td>\n",
       "      <td>602.0</td>\n",
       "      <td>...</td>\n",
       "      <td>205</td>\n",
       "      <td>204.0</td>\n",
       "      <td>1199</td>\n",
       "      <td>5</td>\n",
       "      <td>2019</td>\n",
       "      <td>NaN</td>\n",
       "      <td>NaN</td>\n",
       "      <td>NaN</td>\n",
       "      <td>NaN</td>\n",
       "      <td>NaN</td>\n",
       "    </tr>\n",
       "    <tr>\n",
       "      <th>1</th>\n",
       "      <td>1</td>\n",
       "      <td>20</td>\n",
       "      <td>7</td>\n",
       "      <td>WN</td>\n",
       "      <td>N8682B</td>\n",
       "      <td>2622</td>\n",
       "      <td>10397</td>\n",
       "      <td>11292</td>\n",
       "      <td>2120</td>\n",
       "      <td>2114.0</td>\n",
       "      <td>...</td>\n",
       "      <td>210</td>\n",
       "      <td>205.0</td>\n",
       "      <td>1199</td>\n",
       "      <td>5</td>\n",
       "      <td>2019</td>\n",
       "      <td>NaN</td>\n",
       "      <td>NaN</td>\n",
       "      <td>NaN</td>\n",
       "      <td>NaN</td>\n",
       "      <td>NaN</td>\n",
       "    </tr>\n",
       "    <tr>\n",
       "      <th>2</th>\n",
       "      <td>1</td>\n",
       "      <td>20</td>\n",
       "      <td>7</td>\n",
       "      <td>WN</td>\n",
       "      <td>N717SA</td>\n",
       "      <td>2939</td>\n",
       "      <td>10397</td>\n",
       "      <td>11292</td>\n",
       "      <td>1800</td>\n",
       "      <td>1807.0</td>\n",
       "      <td>...</td>\n",
       "      <td>210</td>\n",
       "      <td>220.0</td>\n",
       "      <td>1199</td>\n",
       "      <td>5</td>\n",
       "      <td>2019</td>\n",
       "      <td>4.0</td>\n",
       "      <td>0.0</td>\n",
       "      <td>10.0</td>\n",
       "      <td>0.0</td>\n",
       "      <td>3.0</td>\n",
       "    </tr>\n",
       "    <tr>\n",
       "      <th>3</th>\n",
       "      <td>1</td>\n",
       "      <td>20</td>\n",
       "      <td>7</td>\n",
       "      <td>WN</td>\n",
       "      <td>N709SW</td>\n",
       "      <td>3848</td>\n",
       "      <td>10397</td>\n",
       "      <td>11292</td>\n",
       "      <td>1355</td>\n",
       "      <td>1354.0</td>\n",
       "      <td>...</td>\n",
       "      <td>205</td>\n",
       "      <td>204.0</td>\n",
       "      <td>1199</td>\n",
       "      <td>5</td>\n",
       "      <td>2019</td>\n",
       "      <td>NaN</td>\n",
       "      <td>NaN</td>\n",
       "      <td>NaN</td>\n",
       "      <td>NaN</td>\n",
       "      <td>NaN</td>\n",
       "    </tr>\n",
       "    <tr>\n",
       "      <th>4</th>\n",
       "      <td>1</td>\n",
       "      <td>20</td>\n",
       "      <td>7</td>\n",
       "      <td>WN</td>\n",
       "      <td>N7864B</td>\n",
       "      <td>1352</td>\n",
       "      <td>10397</td>\n",
       "      <td>11697</td>\n",
       "      <td>1125</td>\n",
       "      <td>1125.0</td>\n",
       "      <td>...</td>\n",
       "      <td>120</td>\n",
       "      <td>124.0</td>\n",
       "      <td>581</td>\n",
       "      <td>3</td>\n",
       "      <td>2019</td>\n",
       "      <td>NaN</td>\n",
       "      <td>NaN</td>\n",
       "      <td>NaN</td>\n",
       "      <td>NaN</td>\n",
       "      <td>NaN</td>\n",
       "    </tr>\n",
       "  </tbody>\n",
       "</table>\n",
       "<p>5 rows × 27 columns</p>\n",
       "</div>"
      ],
      "text/plain": [
       "   month  day_of_month  day_of_week op_unique_carrier tail_num  \\\n",
       "0      1            20            7                WN   N204WN   \n",
       "1      1            20            7                WN   N8682B   \n",
       "2      1            20            7                WN   N717SA   \n",
       "3      1            20            7                WN   N709SW   \n",
       "4      1            20            7                WN   N7864B   \n",
       "\n",
       "   op_carrier_fl_num  origin_airport_id  dest_airport_id  crs_dep_time  \\\n",
       "0                682              10397            11292           605   \n",
       "1               2622              10397            11292          2120   \n",
       "2               2939              10397            11292          1800   \n",
       "3               3848              10397            11292          1355   \n",
       "4               1352              10397            11697          1125   \n",
       "\n",
       "   dep_time  ...  crs_elapsed_time actual_elapsed_time  distance  \\\n",
       "0     602.0  ...               205               204.0      1199   \n",
       "1    2114.0  ...               210               205.0      1199   \n",
       "2    1807.0  ...               210               220.0      1199   \n",
       "3    1354.0  ...               205               204.0      1199   \n",
       "4    1125.0  ...               120               124.0       581   \n",
       "\n",
       "   distance_group  year carrier_delay  weather_delay  nas_delay  \\\n",
       "0               5  2019           NaN            NaN        NaN   \n",
       "1               5  2019           NaN            NaN        NaN   \n",
       "2               5  2019           4.0            0.0       10.0   \n",
       "3               5  2019           NaN            NaN        NaN   \n",
       "4               3  2019           NaN            NaN        NaN   \n",
       "\n",
       "   security_delay  late_aircraft_delay  \n",
       "0             NaN                  NaN  \n",
       "1             NaN                  NaN  \n",
       "2             0.0                  3.0  \n",
       "3             NaN                  NaN  \n",
       "4             NaN                  NaN  \n",
       "\n",
       "[5 rows x 27 columns]"
      ]
     },
     "execution_count": 33,
     "metadata": {},
     "output_type": "execute_result"
    }
   ],
   "source": [
    "flight_df = load_raw_data('../data/raw/flight.csv')\n",
    "flight_df.head()"
   ]
  },
  {
   "cell_type": "code",
   "execution_count": 48,
   "metadata": {},
   "outputs": [
    {
     "data": {
      "text/plain": [
       "month                    int64\n",
       "day_of_month             int64\n",
       "day_of_week              int64\n",
       "op_unique_carrier       object\n",
       "tail_num                object\n",
       "op_carrier_fl_num        int64\n",
       "origin_airport_id        int64\n",
       "dest_airport_id          int64\n",
       "crs_dep_time             int64\n",
       "dep_time               float64\n",
       "dep_delay_new          float64\n",
       "dep_time_blk            object\n",
       "crs_arr_time             int64\n",
       "arr_time               float64\n",
       "arr_delay_new          float64\n",
       "arr_time_blk            object\n",
       "cancelled                int64\n",
       "crs_elapsed_time         int64\n",
       "actual_elapsed_time    float64\n",
       "distance                 int64\n",
       "distance_group           int64\n",
       "year                     int64\n",
       "carrier_delay          float64\n",
       "weather_delay          float64\n",
       "nas_delay              float64\n",
       "security_delay         float64\n",
       "late_aircraft_delay    float64\n",
       "dtype: object"
      ]
     },
     "execution_count": 48,
     "metadata": {},
     "output_type": "execute_result"
    }
   ],
   "source": [
    "flight_df.dtypes"
   ]
  },
  {
   "cell_type": "code",
   "execution_count": 36,
   "metadata": {
    "scrolled": true
   },
   "outputs": [
    {
     "data": {
      "text/html": [
       "<div>\n",
       "<style scoped>\n",
       "    .dataframe tbody tr th:only-of-type {\n",
       "        vertical-align: middle;\n",
       "    }\n",
       "\n",
       "    .dataframe tbody tr th {\n",
       "        vertical-align: top;\n",
       "    }\n",
       "\n",
       "    .dataframe thead th {\n",
       "        text-align: right;\n",
       "    }\n",
       "</style>\n",
       "<table border=\"1\" class=\"dataframe\">\n",
       "  <thead>\n",
       "    <tr style=\"text-align: right;\">\n",
       "      <th></th>\n",
       "      <th>origin_airport_id</th>\n",
       "      <th>display_airport_name</th>\n",
       "      <th>origin_city_name</th>\n",
       "      <th>name</th>\n",
       "    </tr>\n",
       "  </thead>\n",
       "  <tbody>\n",
       "    <tr>\n",
       "      <th>0</th>\n",
       "      <td>11638</td>\n",
       "      <td>Fresno Air Terminal</td>\n",
       "      <td>Fresno, CA</td>\n",
       "      <td>FRESNO YOSEMITE INTERNATIONAL, CA US</td>\n",
       "    </tr>\n",
       "    <tr>\n",
       "      <th>1</th>\n",
       "      <td>13342</td>\n",
       "      <td>General Mitchell Field</td>\n",
       "      <td>Milwaukee, WI</td>\n",
       "      <td>MILWAUKEE MITCHELL AIRPORT, WI US</td>\n",
       "    </tr>\n",
       "    <tr>\n",
       "      <th>2</th>\n",
       "      <td>13244</td>\n",
       "      <td>Memphis International</td>\n",
       "      <td>Memphis, TN</td>\n",
       "      <td>MEMPHIS INTERNATIONAL AIRPORT, TN US</td>\n",
       "    </tr>\n",
       "    <tr>\n",
       "      <th>3</th>\n",
       "      <td>15096</td>\n",
       "      <td>Syracuse Hancock International</td>\n",
       "      <td>Syracuse, NY</td>\n",
       "      <td>SYRACUSE HANCOCK INTERNATIONAL AIRPORT, NY US</td>\n",
       "    </tr>\n",
       "    <tr>\n",
       "      <th>4</th>\n",
       "      <td>10397</td>\n",
       "      <td>Atlanta Municipal</td>\n",
       "      <td>Atlanta, GA</td>\n",
       "      <td>ATLANTA HARTSFIELD JACKSON INTERNATIONAL AIRPO...</td>\n",
       "    </tr>\n",
       "  </tbody>\n",
       "</table>\n",
       "</div>"
      ],
      "text/plain": [
       "   origin_airport_id            display_airport_name origin_city_name  \\\n",
       "0              11638             Fresno Air Terminal       Fresno, CA   \n",
       "1              13342          General Mitchell Field    Milwaukee, WI   \n",
       "2              13244           Memphis International      Memphis, TN   \n",
       "3              15096  Syracuse Hancock International     Syracuse, NY   \n",
       "4              10397               Atlanta Municipal      Atlanta, GA   \n",
       "\n",
       "                                                name  \n",
       "0               FRESNO YOSEMITE INTERNATIONAL, CA US  \n",
       "1                  MILWAUKEE MITCHELL AIRPORT, WI US  \n",
       "2               MEMPHIS INTERNATIONAL AIRPORT, TN US  \n",
       "3      SYRACUSE HANCOCK INTERNATIONAL AIRPORT, NY US  \n",
       "4  ATLANTA HARTSFIELD JACKSON INTERNATIONAL AIRPO...  "
      ]
     },
     "execution_count": 36,
     "metadata": {},
     "output_type": "execute_result"
    }
   ],
   "source": [
    "airport_list_df = load_raw_data('../data/raw/airport_list.csv')\n",
    "airport_list_df.head()"
   ]
  },
  {
   "cell_type": "code",
   "execution_count": 50,
   "metadata": {},
   "outputs": [
    {
     "data": {
      "text/plain": [
       "origin_airport_id        int64\n",
       "display_airport_name    object\n",
       "origin_city_name        object\n",
       "name                    object\n",
       "dtype: object"
      ]
     },
     "execution_count": 50,
     "metadata": {},
     "output_type": "execute_result"
    }
   ],
   "source": [
    "airport_list_df.dtypes"
   ]
  },
  {
   "cell_type": "markdown",
   "metadata": {},
   "source": [
    " # Eksport danych na bazę"
   ]
  },
  {
   "cell_type": "markdown",
   "metadata": {},
   "source": [
    "##### Tworzymy funkcję `export_table_to_db`, która przyjmuje dwa parametry \"df\" i \"table_name\", czyli nazwę wczytywanej ramki danych i tabeli docelowej w bazie postgresql."
   ]
  },
  {
   "cell_type": "code",
   "execution_count": 60,
   "metadata": {},
   "outputs": [],
   "source": [
    "def export_table_to_db(df, table_name):\n",
    "    print(f\"Loading data into {table_name}...\")\n",
    "\n",
    "    # Eksportujemy ramkę do bazy danych\n",
    "    df.to_sql(\n",
    "        name=table_name,\n",
    "        con=engine,\n",
    "        if_exists='append',\n",
    "        index=False,\n",
    "        chunksize=1000\n",
    "    )\n",
    "\n",
    "    print(f\"Data loaded successfully into {table_name}.\")"
   ]
  },
  {
   "cell_type": "markdown",
   "metadata": {},
   "source": [
    " ## Wgrywanie danych"
   ]
  },
  {
   "cell_type": "markdown",
   "metadata": {},
   "source": [
    " ### Wgranie `aircraft_df` do tabeli `aircraft`"
   ]
  },
  {
   "cell_type": "code",
   "execution_count": 62,
   "metadata": {},
   "outputs": [
    {
     "name": "stdout",
     "output_type": "stream",
     "text": [
      "Loading data into aircraft...\n",
      "Data loaded successfully into aircraft.\n"
     ]
    }
   ],
   "source": [
    "export_table_to_db(aircraft_df, 'aircraft')"
   ]
  },
  {
   "cell_type": "markdown",
   "metadata": {},
   "source": [
    " ### Wgranie `airport_weather_df` do tabeli `airport_weather`"
   ]
  },
  {
   "cell_type": "code",
   "execution_count": 64,
   "metadata": {},
   "outputs": [
    {
     "name": "stdout",
     "output_type": "stream",
     "text": [
      "Loading data into airport_weather...\n",
      "Data loaded successfully into airport_weather.\n"
     ]
    }
   ],
   "source": [
    "export_table_to_db(airport_weather_df, 'airport_weather')"
   ]
  },
  {
   "cell_type": "markdown",
   "metadata": {},
   "source": [
    " ### Wgranie `flight_df` do tabeli `flight`"
   ]
  },
  {
   "cell_type": "code",
   "execution_count": 68,
   "metadata": {},
   "outputs": [
    {
     "name": "stdout",
     "output_type": "stream",
     "text": [
      "Loading data into flight...\n",
      "Data loaded successfully into flight.\n"
     ]
    }
   ],
   "source": [
    "export_table_to_db(flight_df, 'flight')"
   ]
  },
  {
   "cell_type": "markdown",
   "metadata": {},
   "source": [
    " ### Wgranie `airport_list_df` do tabeli `airport_list`"
   ]
  },
  {
   "cell_type": "code",
   "execution_count": 69,
   "metadata": {},
   "outputs": [
    {
     "name": "stdout",
     "output_type": "stream",
     "text": [
      "Loading data into airport_list...\n",
      "Data loaded successfully into airport_list.\n"
     ]
    }
   ],
   "source": [
    "export_table_to_db(airport_list_df, 'airport_list')"
   ]
  },
  {
   "cell_type": "markdown",
   "metadata": {},
   "source": [
    " # Sprawdzenie poprawności wykonania notatnika"
   ]
  },
  {
   "cell_type": "code",
   "execution_count": 70,
   "metadata": {},
   "outputs": [],
   "source": [
    "def test_data_export(table_name, expected_count, expected_schema):\n",
    "    real_count = pd.read_sql(f\"SELECT COUNT(*) as cnt FROM {table_name}\", engine).iloc[0][0]\n",
    "    \n",
    "    real_schema = pd.read_sql(f\"SELECT * FROM {table_name} LIMIT 0\", engine)\n",
    "    real_schema = set(real_schema.columns)\n",
    "\n",
    "    expected_schema = set(expected_schema)\n",
    "\n",
    "    diff = real_schema.symmetric_difference(expected_schema)\n",
    "\n",
    "    assert len(diff) == 0, ('Nie zgadzają się kolumny tabel....'\n",
    "    f'\\tOczekiwano: {expected_schema}'\n",
    "    f'\\tOtrzymano: {real_schema}'\n",
    "    f'\\tRóżnica: {diff}')\n",
    "\n",
    "    assert expected_count == real_count, \\\n",
    "        f'Nie zgadza się liczba wierszy, oczekiwano {expected_count}, otrzymano {real_count} - sprawdź, czy nie dane nie zostały wgrane do tabeli \"{table_name}\" więcej niż raz.'"
   ]
  },
  {
   "cell_type": "markdown",
   "metadata": {},
   "source": [
    " ## Sprawdzenie tabeli `aircraft`"
   ]
  },
  {
   "cell_type": "code",
   "execution_count": 71,
   "metadata": {},
   "outputs": [
    {
     "name": "stderr",
     "output_type": "stream",
     "text": [
      "C:\\Users\\ID7\\AppData\\Local\\Temp\\ipykernel_12376\\315915451.py:2: FutureWarning: Series.__getitem__ treating keys as positions is deprecated. In a future version, integer keys will always be treated as labels (consistent with DataFrame behavior). To access a value by position, use `ser.iloc[pos]`\n",
      "  real_count = pd.read_sql(f\"SELECT COUNT(*) as cnt FROM {table_name}\", engine).iloc[0][0]\n"
     ]
    }
   ],
   "source": [
    "aircraft_expected_count = 7383\n",
    "aircraft_expected_schema = ['id', 'manufacture_year', 'tail_num', 'number_of_seats']\n",
    "\n",
    "test_data_export('aircraft', aircraft_expected_count, aircraft_expected_schema)"
   ]
  },
  {
   "cell_type": "markdown",
   "metadata": {},
   "source": [
    " ## Sprawdzenie tabeli `airport_weather`"
   ]
  },
  {
   "cell_type": "code",
   "execution_count": 72,
   "metadata": {},
   "outputs": [
    {
     "name": "stderr",
     "output_type": "stream",
     "text": [
      "C:\\Users\\ID7\\AppData\\Local\\Temp\\ipykernel_12376\\315915451.py:2: FutureWarning: Series.__getitem__ treating keys as positions is deprecated. In a future version, integer keys will always be treated as labels (consistent with DataFrame behavior). To access a value by position, use `ser.iloc[pos]`\n",
      "  real_count = pd.read_sql(f\"SELECT COUNT(*) as cnt FROM {table_name}\", engine).iloc[0][0]\n"
     ]
    }
   ],
   "source": [
    "airport_weather_expected_count = 46226\n",
    "airport_weather_expected_schema = [\n",
    "       'id', 'station', 'name', 'date', 'awnd', 'prcp', 'snow', 'snwd', 'tavg', \n",
    "       'tmax', 'tmin', 'wdf2', 'wdf5', 'wsf2', 'wsf5', 'wt01', 'wt08', 'wt02',\n",
    "       'wt03', 'wt04', 'wt09', 'wt06', 'wt05', 'pgtm', 'wt10', 'wesd', 'sn32',\n",
    "       'sx32', 'psun', 'tsun', 'tobs', 'wt07', 'wt11', 'wt18']\n",
    "\n",
    "test_data_export('airport_weather', airport_weather_expected_count, airport_weather_expected_schema)"
   ]
  },
  {
   "cell_type": "markdown",
   "metadata": {},
   "source": [
    " ## Sprawdzenie tabeli `flight`"
   ]
  },
  {
   "cell_type": "code",
   "execution_count": 73,
   "metadata": {},
   "outputs": [
    {
     "name": "stderr",
     "output_type": "stream",
     "text": [
      "C:\\Users\\ID7\\AppData\\Local\\Temp\\ipykernel_12376\\315915451.py:2: FutureWarning: Series.__getitem__ treating keys as positions is deprecated. In a future version, integer keys will always be treated as labels (consistent with DataFrame behavior). To access a value by position, use `ser.iloc[pos]`\n",
      "  real_count = pd.read_sql(f\"SELECT COUNT(*) as cnt FROM {table_name}\", engine).iloc[0][0]\n"
     ]
    }
   ],
   "source": [
    "flight_expected_count = 1386120\n",
    "flight_expected_schema = [\n",
    "       'id', 'month', 'day_of_month', 'day_of_week', 'op_unique_carrier', 'tail_num',\n",
    "       'op_carrier_fl_num', 'origin_airport_id', 'dest_airport_id',\n",
    "       'crs_dep_time', 'dep_time', 'dep_delay_new', 'dep_time_blk',\n",
    "       'crs_arr_time', 'arr_time', 'arr_delay_new', 'arr_time_blk',\n",
    "       'cancelled', 'crs_elapsed_time', 'actual_elapsed_time', 'distance',\n",
    "       'distance_group', 'year', 'carrier_delay', 'weather_delay', 'nas_delay',\n",
    "       'security_delay', 'late_aircraft_delay']\n",
    "\n",
    "test_data_export('flight', flight_expected_count, flight_expected_schema)"
   ]
  },
  {
   "cell_type": "markdown",
   "metadata": {},
   "source": [
    " ## Sprawdzenie tabeli `airport_list`\n"
   ]
  },
  {
   "cell_type": "code",
   "execution_count": 80,
   "metadata": {},
   "outputs": [
    {
     "name": "stderr",
     "output_type": "stream",
     "text": [
      "C:\\Users\\ID7\\AppData\\Local\\Temp\\ipykernel_12376\\315915451.py:2: FutureWarning: Series.__getitem__ treating keys as positions is deprecated. In a future version, integer keys will always be treated as labels (consistent with DataFrame behavior). To access a value by position, use `ser.iloc[pos]`\n",
      "  real_count = pd.read_sql(f\"SELECT COUNT(*) as cnt FROM {table_name}\", engine).iloc[0][0]\n"
     ]
    }
   ],
   "source": [
    "airport_list_expected_count = 97\n",
    "airport_list_expected_schema = ['id', 'origin_airport_id', 'display_airport_name', 'origin_city_name', 'name']\n",
    "\n",
    "test_data_export('airport_list', airport_list_expected_count, airport_list_expected_schema)\n"
   ]
  },
  {
   "cell_type": "code",
   "execution_count": 90,
   "metadata": {},
   "outputs": [
    {
     "name": "stdout",
     "output_type": "stream",
     "text": [
      "Wszystko wygląda OK :) Przechodzimy do kolejnego zadania.\n"
     ]
    }
   ],
   "source": [
    "msg = \"Wszystko wygląda OK :) Przechodzimy do kolejnego zadania.\"\n",
    "print(msg)"
   ]
  },
  {
   "cell_type": "markdown",
   "metadata": {},
   "source": [
    " # Podsumowanie\n",
    " W tym notatniku załadowaliśmy pobrane wcześniej pliki na bazę danych. Dzięki temu stworzyliśmy centralne miejsce ich magazynowania, co wykorzystamy zarówno przy analizie danych, jak i przy późniejszej budowie systemu raportowego."
   ]
  },
  {
   "cell_type": "code",
   "execution_count": null,
   "metadata": {},
   "outputs": [],
   "source": []
  }
 ],
 "metadata": {
  "kernelspec": {
   "display_name": "venv_portfolio",
   "language": "python",
   "name": "venv_portfolio"
  },
  "language_info": {
   "codemirror_mode": {
    "name": "ipython",
    "version": 3
   },
   "file_extension": ".py",
   "mimetype": "text/x-python",
   "name": "python",
   "nbconvert_exporter": "python",
   "pygments_lexer": "ipython3",
   "version": "3.12.4"
  },
  "vscode": {
   "interpreter": {
    "hash": "38d75d0df746d7f75dd34c5d1915af59cb55786647bd68b8d9064425d7680b12"
   }
  }
 },
 "nbformat": 4,
 "nbformat_minor": 4
}
